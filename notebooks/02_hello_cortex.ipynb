{
 "cells": [
  {
   "cell_type": "code",
   "id": "initial_id",
   "metadata": {
    "collapsed": true,
    "ExecuteTime": {
     "end_time": "2025-10-12T16:07:39.669910Z",
     "start_time": "2025-10-12T16:07:32.888902Z"
    }
   },
   "source": [
    "# Retrieve connection parameters\n",
    "%store -r CONNECTION_PARAMETERS\n",
    "\n",
    "from snowflake.snowpark import Session\n",
    "session = Session.builder.configs(CONNECTION_PARAMETERS).create()"
   ],
   "outputs": [],
   "execution_count": 1
  },
  {
   "metadata": {
    "ExecuteTime": {
     "end_time": "2025-10-12T16:07:43.084024Z",
     "start_time": "2025-10-12T16:07:42.156280Z"
    }
   },
   "cell_type": "code",
   "source": "session.sql(\"SELECT CURRENT_ROLE(), CURRENT_WAREHOUSE(), CURRENT_DATABASE(), CURRENT_SCHEMA()\").show()",
   "id": "4e895025142b632e",
   "outputs": [
    {
     "name": "stdout",
     "output_type": "stream",
     "text": [
      "----------------------------------------------------------------------------------------\n",
      "|\"CURRENT_ROLE()\"  |\"CURRENT_WAREHOUSE()\"  |\"CURRENT_DATABASE()\"  |\"CURRENT_SCHEMA()\"  |\n",
      "----------------------------------------------------------------------------------------\n",
      "|DEV_ROLE          |TEST_WAREHOUSE         |TEST_DATABASE         |TEST_SCHEMA         |\n",
      "----------------------------------------------------------------------------------------\n",
      "\n"
     ]
    }
   ],
   "execution_count": 2
  },
  {
   "metadata": {},
   "cell_type": "markdown",
   "source": "### Simple text completion using Snowflake Cortex",
   "id": "1a591c190eaf4a96"
  },
  {
   "metadata": {
    "ExecuteTime": {
     "end_time": "2025-10-12T16:11:49.780273Z",
     "start_time": "2025-10-12T16:11:42.931533Z"
    }
   },
   "cell_type": "code",
   "source": [
    "from snowflake.cortex import complete\n",
    "\n",
    "result = complete(\n",
    "    model=\"mistral-7b\",\n",
    "    prompt=\"Write a short story about a talking cat.\",\n",
    "    session=session\n",
    ")\n",
    "print(result)"
   ],
   "id": "8d913ac8a9f6c01f",
   "outputs": [
    {
     "name": "stdout",
     "output_type": "stream",
     "text": [
      " Once upon a time, in the quaint little village of Willowbrook, nestled between the rolling hills and the sparkling brook, there lived a cat named Whiskers. Whiskers was no ordinary cat, for he had the remarkable ability to speak. He was a sleek, black cat with piercing green eyes and a bushy tail that seemed to twitch with every thought.\n",
      "\n",
      "Whiskers lived in the cozy home of Old Mrs. Jenkins, the village herbalist. She was a kind and gentle woman, who had taken Whiskers in as a kitten, finding him abandoned in her garden. Over the years, Whiskers had become more than just a pet to Old Mrs. Jenkins; he was her confidant, her companion, and her friend.\n",
      "\n",
      "One sunny morning, as Old Mrs. Jenkins was tending to her herb garden, Whiskers sat on the garden gate, watching the birds flit about in the trees. \"What a beautiful day it is, Whiskers,\" Old Mrs. Jenkins said, patting the gate next to him. \"Yes, it is, Old Lady,\" Whiskers replied, his voice as smooth as silk.\n",
      "\n",
      "Old Mrs. Jenkins was startled at first, but soon grew used to Whiskers' gift. She shared her secrets and her stories with him, and he, in turn, shared his thoughts and his observations of the world around them. They spent their days in companionship, their bond growing stronger with each passing day.\n",
      "\n",
      "One day, as they sat by the fire, Old Mrs. Jenkins grew quiet. \"Whiskers,\" she said, her voice heavy with worry, \"I fear that my herbs are not selling as they used to. The villagers are turning to the apothecary in the next town for their remedies. I cannot compete with his prices.\"\n",
      "\n",
      "Whiskers, who had been listening intently, purred thoughtfully. \"Perhaps, Old Lady, we could find a way to make your herbs more appealing to the villagers. Maybe we could add some unique ingredients or create new blends.\"\n",
      "\n",
      "Old Mrs. Jenkins' eyes lit up with excitement. \"Whiskers, my dear, you always know just what to say! I shall try your suggestions and see if they bring in more customers.\"\n",
      "\n",
      "True to her word, Old Mrs. Jenkins began to experiment with new herb blends, incorporating Whiskers' suggestions. The villagers were delighted with the new offerings, and soon, Old Mrs. Jenkins' herb shop was once again bustling with activity.\n",
      "\n",
      "Whiskers' gift of speech had brought Old Mrs. Jenkins not only companionship but also success. And so, they lived happily ever after, their bond growing stronger with each passing day, as they shared their lives and their secrets, in the quaint little village of Willowbrook.\n"
     ]
    }
   ],
   "execution_count": 5
  }
 ],
 "metadata": {
  "kernelspec": {
   "display_name": "Python 3",
   "language": "python",
   "name": "python3"
  },
  "language_info": {
   "codemirror_mode": {
    "name": "ipython",
    "version": 2
   },
   "file_extension": ".py",
   "mimetype": "text/x-python",
   "name": "python",
   "nbconvert_exporter": "python",
   "pygments_lexer": "ipython2",
   "version": "2.7.6"
  }
 },
 "nbformat": 4,
 "nbformat_minor": 5
}
