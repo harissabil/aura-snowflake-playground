{
 "cells": [
  {
   "cell_type": "code",
   "id": "initial_id",
   "metadata": {
    "collapsed": true,
    "ExecuteTime": {
     "end_time": "2025-10-13T03:21:17.395391Z",
     "start_time": "2025-10-13T03:21:15.744505Z"
    }
   },
   "source": [
    "import sys\n",
    "\n",
    "sys.path.append('..')\n",
    "\n",
    "from src.config import SnowflakeConfig, validate_config\n",
    "from src.utils.snowflake_helper import SnowflakeHelper\n",
    "from snowflake.cortex import complete, extract_answer, summarize\n",
    "from snowflake.core import Root\n",
    "\n",
    "# Validate and connect\n",
    "validate_config()\n",
    "config = SnowflakeConfig()\n",
    "sf_helper = SnowflakeHelper(config.get_connection_params())\n",
    "session = sf_helper.connect()\n",
    "\n",
    "print(\"✓ Cortex Search Service Test initialized\")"
   ],
   "outputs": [
    {
     "name": "stdout",
     "output_type": "stream",
     "text": [
      "✓ Configuration validated successfully\n",
      "✓ Connected to Snowflake as harismad\n",
      "  Role: \"DEV_ROLE\"\n",
      "  Warehouse: \"TEST_WAREHOUSE\"\n",
      "  Database: \"TEST_DATABASE\"\n",
      "  Schema: \"TEST_SCHEMA\"\n",
      "✓ Cortex Search Service Test initialized\n"
     ]
    }
   ],
   "execution_count": 47
  },
  {
   "metadata": {},
   "cell_type": "markdown",
   "source": "### Prepare Data for Cortex Search",
   "id": "5e4c29abc3c99ce"
  },
  {
   "metadata": {
    "ExecuteTime": {
     "end_time": "2025-10-13T02:36:39.861144Z",
     "start_time": "2025-10-13T02:36:38.068324Z"
    }
   },
   "cell_type": "code",
   "source": [
    "def prepare_search_content():\n",
    "    \"\"\"Prepare and enrich content for better search results\"\"\"\n",
    "\n",
    "    # Combine SOP content with metadata for better search\n",
    "    query = \"\"\"\n",
    "            SELECT SOP_ID,\n",
    "                   SOP_TITLE || ' - ' || SOP_CATEGORY || '. ' || SOP_CONTENT as SEARCH_CONTENT,\n",
    "                   SOP_TITLE,\n",
    "                   SOP_CATEGORY,\n",
    "                   DEPARTMENT,\n",
    "                   SOP_CONTENT,\n",
    "                   LAST_UPDATED\n",
    "            FROM hospital_sop \\\n",
    "            \"\"\"\n",
    "\n",
    "    sop_df = sf_helper.execute_query(query)\n",
    "    print(f\"✓ Prepared {len(sop_df)} SOP records for search\")\n",
    "\n",
    "    # Create enriched facility descriptions\n",
    "    query_facility = \"\"\"\n",
    "                     SELECT FACILITY_ID,\n",
    "                            FACILITY_NAME || ' is a ' || FACILITY_TYPE ||\n",
    "                            ' located at ' || LOCATION ||\n",
    "                            '. Operating hours: ' || OPERATING_HOURS ||\n",
    "                            '. Contact: ' || CONTACT_INFO as SEARCH_CONTENT,\n",
    "                            FACILITY_NAME,\n",
    "                            FACILITY_TYPE,\n",
    "                            LOCATION,\n",
    "                            CAPACITY,\n",
    "                            CURRENT_USAGE,\n",
    "                            OPERATING_HOURS,\n",
    "                            STATUS\n",
    "                     FROM hospital_facilities \\\n",
    "                     \"\"\"\n",
    "\n",
    "    facility_df = sf_helper.execute_query(query_facility)\n",
    "    print(f\"✓ Prepared {len(facility_df)} facility records for search\")\n",
    "\n",
    "    return sop_df, facility_df\n",
    "\n",
    "\n",
    "sop_df, facility_df = prepare_search_content()"
   ],
   "id": "eef0a14a28ba7776",
   "outputs": [
    {
     "name": "stdout",
     "output_type": "stream",
     "text": [
      "✓ Prepared 20 SOP records for search\n",
      "✓ Prepared 25 facility records for search\n"
     ]
    }
   ],
   "execution_count": 2
  },
  {
   "metadata": {
    "ExecuteTime": {
     "end_time": "2025-10-13T02:36:49.562869Z",
     "start_time": "2025-10-13T02:36:49.533524Z"
    }
   },
   "cell_type": "code",
   "source": [
    "# Display samples\n",
    "print(\"\\nSOP Search Content Sample:\")\n",
    "print(sop_df[['SOP_ID', 'SOP_TITLE']].head(3))\n",
    "\n",
    "print(\"\\nFacility Search Content Sample:\")\n",
    "print(facility_df[['FACILITY_ID', 'FACILITY_NAME']].head(3))"
   ],
   "id": "dde755c809bae",
   "outputs": [
    {
     "name": "stdout",
     "output_type": "stream",
     "text": [
      "\n",
      "SOP Search Content Sample:\n",
      "     SOP_ID                            SOP_TITLE\n",
      "0  SOP-0001     Appointment Scheduling Procedure\n",
      "1  SOP-0002  Personal Protective Equipment Usage\n",
      "2  SOP-0003   Medication Administration Protocol\n",
      "\n",
      "Facility Search Content Sample:\n",
      "  FACILITY_ID     FACILITY_NAME\n",
      "0    FAC-0001     MRI Scanner 5\n",
      "1    FAC-0002         ICU Bed 4\n",
      "2    FAC-0003  Emergency Room 2\n"
     ]
    }
   ],
   "execution_count": 3
  },
  {
   "metadata": {},
   "cell_type": "markdown",
   "source": "### Create Cortex Search Service for SOPs",
   "id": "d996f471b8bbccd1"
  },
  {
   "metadata": {
    "ExecuteTime": {
     "end_time": "2025-10-13T02:37:42.866519Z",
     "start_time": "2025-10-13T02:37:42.275514Z"
    }
   },
   "cell_type": "code",
   "source": [
    "# First, create a view with search-optimized content\n",
    "create_sop_search_view = \"\"\"\n",
    "                         CREATE\n",
    "                         OR REPLACE VIEW sop_search_view AS\n",
    "                         SELECT SOP_ID,\n",
    "                                SOP_TITLE,\n",
    "                                SOP_CATEGORY,\n",
    "                                DEPARTMENT,\n",
    "                                SOP_CONTENT,\n",
    "                                SOP_TITLE || ' - ' || SOP_CATEGORY || '. ' ||\n",
    "                                'Department: ' || DEPARTMENT || '. ' ||\n",
    "                                SOP_CONTENT as SEARCH_DOCUMENT,\n",
    "                                LAST_UPDATED,\n",
    "                                VERSION\n",
    "                         FROM hospital_sop \\\n",
    "                         \"\"\"\n",
    "\n",
    "try:\n",
    "    session.sql(create_sop_search_view).collect()\n",
    "    print(\"✓ Created SOP search view\")\n",
    "except Exception as e:\n",
    "    print(f\"Error creating view: {e}\")"
   ],
   "id": "618dff19a00e6276",
   "outputs": [
    {
     "name": "stdout",
     "output_type": "stream",
     "text": [
      "✓ Created SOP search view\n"
     ]
    }
   ],
   "execution_count": 4
  },
  {
   "metadata": {
    "ExecuteTime": {
     "end_time": "2025-10-13T02:42:38.962884Z",
     "start_time": "2025-10-13T02:42:30.859878Z"
    }
   },
   "cell_type": "code",
   "source": [
    "# Create Cortex Search Service for SOPs\n",
    "create_sop_search_service = \"\"\"\n",
    "CREATE OR REPLACE CORTEX SEARCH SERVICE sop_search_service\n",
    "ON SEARCH_DOCUMENT\n",
    "ATTRIBUTES SOP_ID, SOP_TITLE, SOP_CATEGORY, DEPARTMENT, SOP_CONTENT\n",
    "WAREHOUSE = TEST_WAREHOUSE\n",
    "TARGET_LAG = '1 minute'\n",
    "AS (\n",
    "    SELECT\n",
    "        SOP_ID,\n",
    "        SOP_TITLE,\n",
    "        SOP_CATEGORY,\n",
    "        DEPARTMENT,\n",
    "        SOP_CONTENT,\n",
    "        SEARCH_DOCUMENT\n",
    "    FROM sop_search_view\n",
    ")\n",
    "\"\"\"\n",
    "\n",
    "try:\n",
    "    session.sql(create_sop_search_service).collect()\n",
    "    print(\"✓ Created Cortex Search Service: sop_search_service\")\n",
    "    print(\"  Note: Service may take a few minutes to build index\")\n",
    "except Exception as e:\n",
    "    print(f\"Note: {e}\")\n",
    "    print(\"  Search service might already exist or needs permissions\")"
   ],
   "id": "12772267a6559f28",
   "outputs": [
    {
     "name": "stdout",
     "output_type": "stream",
     "text": [
      "✓ Created Cortex Search Service: sop_search_service\n",
      "  Note: Service may take a few minutes to build index\n"
     ]
    }
   ],
   "execution_count": 6
  },
  {
   "metadata": {},
   "cell_type": "markdown",
   "source": "### Create Cortex Search Service for Facilities",
   "id": "da3fac9cb64a3f22"
  },
  {
   "metadata": {
    "ExecuteTime": {
     "end_time": "2025-10-13T02:46:53.314420Z",
     "start_time": "2025-10-13T02:46:51.574414Z"
    }
   },
   "cell_type": "code",
   "source": [
    "create_facility_search_view = \"\"\"\n",
    "                              CREATE\n",
    "                              OR REPLACE VIEW facility_search_view AS\n",
    "                              SELECT FACILITY_ID,\n",
    "                                     FACILITY_NAME,\n",
    "                                     FACILITY_TYPE,\n",
    "                                     LOCATION,\n",
    "                                     FACILITY_NAME || ' is a ' || FACILITY_TYPE ||\n",
    "                                     ' located at ' || LOCATION ||\n",
    "                                     '. Capacity: ' || CAPACITY ||\n",
    "                                     '. Operating hours: ' || OPERATING_HOURS ||\n",
    "                                     '. Equipment: ' || EQUIPMENT_LIST ||\n",
    "                                     '. Contact: ' || CONTACT_INFO as SEARCH_DOCUMENT,\n",
    "                                     CAPACITY,\n",
    "                                     CURRENT_USAGE,\n",
    "                                     OPERATING_HOURS,\n",
    "                                     CONTACT_INFO,\n",
    "                                     STATUS\n",
    "                              FROM hospital_facilities\n",
    "                              WHERE STATUS = 'OPERATIONAL' \\\n",
    "                              \"\"\"\n",
    "\n",
    "try:\n",
    "    session.sql(create_facility_search_view).collect()\n",
    "    print(\"✓ Created facility search view\")\n",
    "except Exception as e:\n",
    "    print(f\"Error creating view: {e}\")"
   ],
   "id": "a55e788043b5b383",
   "outputs": [
    {
     "name": "stdout",
     "output_type": "stream",
     "text": [
      "✓ Created facility search view\n"
     ]
    }
   ],
   "execution_count": 7
  },
  {
   "metadata": {
    "ExecuteTime": {
     "end_time": "2025-10-13T02:47:16.200705Z",
     "start_time": "2025-10-13T02:47:08.847097Z"
    }
   },
   "cell_type": "code",
   "source": [
    "create_facility_search_service = \"\"\"\n",
    "CREATE OR REPLACE CORTEX SEARCH SERVICE facility_search_service\n",
    "ON SEARCH_DOCUMENT\n",
    "ATTRIBUTES FACILITY_ID, FACILITY_NAME, FACILITY_TYPE, LOCATION, CAPACITY, OPERATING_HOURS\n",
    "WAREHOUSE = TEST_WAREHOUSE\n",
    "TARGET_LAG = '1 minute'\n",
    "AS (\n",
    "    SELECT\n",
    "        FACILITY_ID,\n",
    "        FACILITY_NAME,\n",
    "        FACILITY_TYPE,\n",
    "        LOCATION,\n",
    "        CAPACITY,\n",
    "        CURRENT_USAGE,\n",
    "        OPERATING_HOURS,\n",
    "        CONTACT_INFO,\n",
    "        STATUS,\n",
    "        SEARCH_DOCUMENT\n",
    "    FROM facility_search_view\n",
    ")\n",
    "\"\"\"\n",
    "\n",
    "try:\n",
    "    session.sql(create_facility_search_service).collect()\n",
    "    print(\"✓ Created Cortex Search Service: facility_search_service\")\n",
    "except Exception as e:\n",
    "    print(f\"Note: {e}\")"
   ],
   "id": "cbce23038e08474a",
   "outputs": [
    {
     "name": "stdout",
     "output_type": "stream",
     "text": [
      "✓ Created Cortex Search Service: facility_search_service\n"
     ]
    }
   ],
   "execution_count": 8
  },
  {
   "metadata": {},
   "cell_type": "markdown",
   "source": "### Test Cortex Search - Basic Queries",
   "id": "55e0483ed3e67eb6"
  },
  {
   "metadata": {
    "ExecuteTime": {
     "end_time": "2025-10-13T03:05:17.024239Z",
     "start_time": "2025-10-13T03:05:17.017832Z"
    }
   },
   "cell_type": "code",
   "source": [
    "def cortex_search_sop(query: str, limit: int = 5):\n",
    "    root = Root(session)\n",
    "    my_service = (\n",
    "        root\n",
    "        .databases[\"TEST_DATABASE\"]\n",
    "        .schemas[\"TEST_SCHEMA\"]\n",
    "        .cortex_search_services[\"SOP_SEARCH_SERVICE\"]\n",
    "    )\n",
    "    resp = my_service.search(\n",
    "        query=query,\n",
    "        columns=[\"SEARCH_DOCUMENT\", \"SOP_ID\", \"SOP_TITLE\", \"SOP_CATEGORY\"],\n",
    "        limit=limit,\n",
    "    )\n",
    "    return resp\n",
    "\n",
    "\n",
    "def cortex_search_facility(query: str, limit: int = 5):\n",
    "    root = Root(session)\n",
    "    my_service = (\n",
    "        root\n",
    "        .databases[\"TEST_DATABASE\"]\n",
    "        .schemas[\"TEST_SCHEMA\"]\n",
    "        .cortex_search_services[\"FACILITY_SEARCH_SERVICE\"]\n",
    "    )\n",
    "    resp = my_service.search(\n",
    "        query=query,\n",
    "        columns=[\"SEARCH_DOCUMENT\", \"FACILITY_ID\", \"FACILITY_NAME\", \"FACILITY_TYPE\", \"LOCATION\", \"CAPACITY\"],\n",
    "        limit=limit,\n",
    "    )\n",
    "    return resp"
   ],
   "id": "4176315682d2084d",
   "outputs": [],
   "execution_count": 30
  },
  {
   "metadata": {
    "ExecuteTime": {
     "end_time": "2025-10-13T03:05:19.134116Z",
     "start_time": "2025-10-13T03:05:19.123073Z"
    }
   },
   "cell_type": "code",
   "source": [
    "def print_clean_sop_results(result):\n",
    "    results = result.to_dict().get('results', [])\n",
    "    for idx, sop in enumerate(results, 1):\n",
    "        print(f\"{idx}. {sop['SOP_TITLE']} [{sop['SOP_CATEGORY']}] (ID: {sop['SOP_ID']})\")\n",
    "        snippet = sop['SEARCH_DOCUMENT'][:100] + \"...\" if 'SEARCH_DOCUMENT' in sop else \"\"\n",
    "        score = sop.get('@scores', {}).get('cosine_similarity', None)\n",
    "        if score is not None:\n",
    "            print(f\"   Similarity: {score:.2f}\")\n",
    "        print(f\"   Snippet: {snippet}\\n\")\n",
    "\n",
    "\n",
    "def print_clean_facility_results(result):\n",
    "    results = result.to_dict().get('results', [])\n",
    "    for idx, fac in enumerate(results, 1):\n",
    "        print(f\"{idx}. {fac['FACILITY_NAME']} [{fac['FACILITY_TYPE']}] (ID: {fac['FACILITY_ID']})\")\n",
    "        snippet = fac['SEARCH_DOCUMENT'][:100] + \"...\" if 'SEARCH_DOCUMENT' in fac else \"\"\n",
    "        score = fac.get('@scores', {}).get('cosine_similarity', None)\n",
    "        if score is not None:\n",
    "            print(f\"   Similarity: {score:.2f}\")\n",
    "        print(f\"   Snippet: {snippet}\\n\")"
   ],
   "id": "1396717c1ffe9ea4",
   "outputs": [],
   "execution_count": 31
  },
  {
   "metadata": {
    "ExecuteTime": {
     "end_time": "2025-10-13T03:05:55.256450Z",
     "start_time": "2025-10-13T03:05:51.365149Z"
    }
   },
   "cell_type": "code",
   "source": [
    "# Test searches\n",
    "print(\"=== Testing Cortex Search ===\\n\")\n",
    "\n",
    "# Test 1: Natural language SOP search\n",
    "print(\"Test 1: 'How to handle patient emergencies?'\")\n",
    "result1 = cortex_search_sop(\"How to handle patient emergencies?\", limit=3)\n",
    "if result1 is not None:\n",
    "    print_clean_sop_results(result1)\n",
    "else:\n",
    "    print(\"  Note: Search service might still be indexing. Try again in a few minutes.\")\n",
    "\n",
    "print(\"\\nTest 2: 'infection control and hygiene'\")\n",
    "result2 = cortex_search_sop(\"infection control and hygiene\", limit=3)\n",
    "if result2 is not None:\n",
    "    print_clean_sop_results(result2)\n",
    "else:\n",
    "    print(\"  Note: Search service might still be indexing. Try again in a few minutes.\")"
   ],
   "id": "ca6357828c3b811",
   "outputs": [
    {
     "name": "stdout",
     "output_type": "stream",
     "text": [
      "=== Testing Cortex Search ===\n",
      "\n",
      "Test 1: 'How to handle patient emergencies?'\n",
      "1. Medical Emergency Response [Emergency Procedures] (ID: SOP-0004)\n",
      "   Similarity: 0.49\n",
      "   Snippet: Medical Emergency Response - Emergency Procedures. Department: Radiology. This is the detailed proce...\n",
      "\n",
      "2. Patient Admission Procedure [Patient Care] (ID: SOP-0005)\n",
      "   Similarity: 0.44\n",
      "   Snippet: Patient Admission Procedure - Patient Care. Department: ICU. This is the detailed procedure for Pati...\n",
      "\n",
      "3. Personal Protective Equipment Usage [Safety Protocol] (ID: SOP-0002)\n",
      "   Similarity: 0.44\n",
      "   Snippet: Personal Protective Equipment Usage - Safety Protocol. Department: Emergency. This is the detailed p...\n",
      "\n",
      "\n",
      "Test 2: 'infection control and hygiene'\n",
      "1. Infection Control Measures [Safety Protocol] (ID: SOP-0007)\n",
      "   Similarity: 0.56\n",
      "   Snippet: Infection Control Measures - Safety Protocol. Department: Administration. This is the detailed proce...\n",
      "\n",
      "2. Infection Control Measures [Safety Protocol] (ID: SOP-0017)\n",
      "   Similarity: 0.55\n",
      "   Snippet: Infection Control Measures - Safety Protocol. Department: Radiology. This is the detailed procedure ...\n",
      "\n",
      "3. Personal Protective Equipment Usage [Safety Protocol] (ID: SOP-0018)\n",
      "   Similarity: 0.38\n",
      "   Snippet: Personal Protective Equipment Usage - Safety Protocol. Department: Laboratory. This is the detailed ...\n",
      "\n"
     ]
    }
   ],
   "execution_count": 32
  },
  {
   "metadata": {},
   "cell_type": "markdown",
   "source": "### Compare Traditional SQL vs Cortex Search",
   "id": "1bd0b7904f5b53"
  },
  {
   "metadata": {
    "ExecuteTime": {
     "end_time": "2025-10-13T03:08:49.109212Z",
     "start_time": "2025-10-13T03:08:49.094977Z"
    }
   },
   "cell_type": "code",
   "source": [
    "def compare_search_methods(query: str):\n",
    "    \"\"\"Compare traditional ILIKE search vs Cortex Search\"\"\"\n",
    "\n",
    "    print(f\"\\n{'=' * 60}\")\n",
    "    print(f\"Query: '{query}'\")\n",
    "    print(f\"{'=' * 60}\")\n",
    "\n",
    "    # Traditional SQL search\n",
    "    sql_query = f\"\"\"\n",
    "    SELECT\n",
    "        SOP_ID,\n",
    "        SOP_TITLE,\n",
    "        SOP_CATEGORY,\n",
    "        DEPARTMENT\n",
    "    FROM hospital_sop\n",
    "    WHERE SOP_TITLE ILIKE '%{query}%'\n",
    "       OR SOP_CONTENT ILIKE '%{query}%'\n",
    "       OR SOP_CATEGORY ILIKE '%{query}%'\n",
    "    LIMIT 5\n",
    "    \"\"\"\n",
    "\n",
    "    sql_results = sf_helper.execute_query(sql_query)\n",
    "\n",
    "    print(f\"\\n📊 Traditional SQL Search ({len(sql_results)} results):\")\n",
    "    if not sql_results.empty:\n",
    "        for idx, row in sql_results.iterrows():\n",
    "            print(f\"  {idx + 1}. {row['SOP_TITLE']}\")\n",
    "    else:\n",
    "        print(\"  No results found\")\n",
    "\n",
    "    # Cortex Search\n",
    "    print(f\"\\n🤖 Cortex Semantic Search:\")\n",
    "    cortex_results = cortex_search_sop(query, limit=5)\n",
    "    if cortex_results is not None:\n",
    "        print_clean_sop_results(cortex_results)\n",
    "    else:\n",
    "        print(\"  Service still indexing or no results\")\n",
    "\n",
    "    return sql_results, cortex_results"
   ],
   "id": "6c0cde1226890519",
   "outputs": [],
   "execution_count": 33
  },
  {
   "metadata": {
    "ExecuteTime": {
     "end_time": "2025-10-13T03:08:57.978010Z",
     "start_time": "2025-10-13T03:08:51.001238Z"
    }
   },
   "cell_type": "code",
   "source": [
    "# Run comparisons\n",
    "test_queries = [\n",
    "    \"patient safety\",\n",
    "    \"emergency response\",\n",
    "    \"admission process\"\n",
    "]\n",
    "\n",
    "for query in test_queries:\n",
    "    sql_res, cortex_res = compare_search_methods(query)"
   ],
   "id": "1d6c669bb82dd913",
   "outputs": [
    {
     "name": "stdout",
     "output_type": "stream",
     "text": [
      "\n",
      "============================================================\n",
      "Query: 'patient safety'\n",
      "============================================================\n",
      "\n",
      "📊 Traditional SQL Search (0 results):\n",
      "  No results found\n",
      "\n",
      "🤖 Cortex Semantic Search:\n",
      "1. Personal Protective Equipment Usage [Safety Protocol] (ID: SOP-0008)\n",
      "   Similarity: 0.46\n",
      "   Snippet: Personal Protective Equipment Usage - Safety Protocol. Department: Outpatient. This is the detailed ...\n",
      "\n",
      "2. Infection Control Measures [Safety Protocol] (ID: SOP-0017)\n",
      "   Similarity: 0.47\n",
      "   Snippet: Infection Control Measures - Safety Protocol. Department: Radiology. This is the detailed procedure ...\n",
      "\n",
      "3. Patient Feedback Management [Quality Assurance] (ID: SOP-0020)\n",
      "   Similarity: 0.44\n",
      "   Snippet: Patient Feedback Management - Quality Assurance. Department: Radiology. This is the detailed procedu...\n",
      "\n",
      "4. Patient Feedback Management [Quality Assurance] (ID: SOP-0012)\n",
      "   Similarity: 0.43\n",
      "   Snippet: Patient Feedback Management - Quality Assurance. Department: Laboratory. This is the detailed proced...\n",
      "\n",
      "5. Infection Control Measures [Safety Protocol] (ID: SOP-0007)\n",
      "   Similarity: 0.43\n",
      "   Snippet: Infection Control Measures - Safety Protocol. Department: Administration. This is the detailed proce...\n",
      "\n",
      "\n",
      "============================================================\n",
      "Query: 'emergency response'\n",
      "============================================================\n",
      "\n",
      "📊 Traditional SQL Search (1 results):\n",
      "  1. Medical Emergency Response\n",
      "\n",
      "🤖 Cortex Semantic Search:\n",
      "1. Medical Emergency Response [Emergency Procedures] (ID: SOP-0004)\n",
      "   Similarity: 0.52\n",
      "   Snippet: Medical Emergency Response - Emergency Procedures. Department: Radiology. This is the detailed proce...\n",
      "\n",
      "2. Fire Emergency Protocol [Emergency Procedures] (ID: SOP-0016)\n",
      "   Similarity: 0.43\n",
      "   Snippet: Fire Emergency Protocol - Emergency Procedures. Department: Laboratory. This is the detailed procedu...\n",
      "\n",
      "3. Personal Protective Equipment Usage [Safety Protocol] (ID: SOP-0002)\n",
      "   Similarity: 0.42\n",
      "   Snippet: Personal Protective Equipment Usage - Safety Protocol. Department: Emergency. This is the detailed p...\n",
      "\n",
      "4. Personal Protective Equipment Usage [Safety Protocol] (ID: SOP-0008)\n",
      "   Similarity: 0.36\n",
      "   Snippet: Personal Protective Equipment Usage - Safety Protocol. Department: Outpatient. This is the detailed ...\n",
      "\n",
      "5. Personal Protective Equipment Usage [Safety Protocol] (ID: SOP-0018)\n",
      "   Similarity: 0.34\n",
      "   Snippet: Personal Protective Equipment Usage - Safety Protocol. Department: Laboratory. This is the detailed ...\n",
      "\n",
      "\n",
      "============================================================\n",
      "Query: 'admission process'\n",
      "============================================================\n",
      "\n",
      "📊 Traditional SQL Search (0 results):\n",
      "  No results found\n",
      "\n",
      "🤖 Cortex Semantic Search:\n",
      "1. Patient Admission Procedure [Patient Care] (ID: SOP-0005)\n",
      "   Similarity: 0.51\n",
      "   Snippet: Patient Admission Procedure - Patient Care. Department: ICU. This is the detailed procedure for Pati...\n",
      "\n",
      "2. Patient Discharge Process [Patient Care] (ID: SOP-0011)\n",
      "   Similarity: 0.35\n",
      "   Snippet: Patient Discharge Process - Patient Care. Department: Radiology. This is the detailed procedure for ...\n",
      "\n",
      "3. Patient Discharge Process [Patient Care] (ID: SOP-0010)\n",
      "   Similarity: 0.33\n",
      "   Snippet: Patient Discharge Process - Patient Care. Department: Outpatient. This is the detailed procedure for...\n",
      "\n",
      "4. Patient Discharge Process [Patient Care] (ID: SOP-0014)\n",
      "   Similarity: 0.33\n",
      "   Snippet: Patient Discharge Process - Patient Care. Department: Outpatient. This is the detailed procedure for...\n",
      "\n",
      "5. Patient Discharge Process [Patient Care] (ID: SOP-0015)\n",
      "   Similarity: 0.33\n",
      "   Snippet: Patient Discharge Process - Patient Care. Department: Laboratory. This is the detailed procedure for...\n",
      "\n"
     ]
    }
   ],
   "execution_count": 34
  },
  {
   "metadata": {},
   "cell_type": "markdown",
   "source": "### Advanced RAG with Cortex Search + Complete",
   "id": "420067d11dccb26a"
  },
  {
   "metadata": {
    "ExecuteTime": {
     "end_time": "2025-10-13T03:21:24.345820Z",
     "start_time": "2025-10-13T03:21:24.317070Z"
    }
   },
   "cell_type": "code",
   "source": [
    "class AdvancedRAGAgent:\n",
    "    \"\"\"Advanced RAG agent using Cortex Search and Complete\"\"\"\n",
    "\n",
    "    def __init__(self, sf_helper, model: str = \"mistral-7b\"):\n",
    "        self.sf_helper = sf_helper\n",
    "        self.model = model\n",
    "\n",
    "    def search_and_answer(self, question: str, search_limit: int = 3) -> dict:\n",
    "        search_results = cortex_search_sop(question, limit=search_limit)\n",
    "        results = search_results.to_dict().get('results', []) if search_results else []\n",
    "        if not results:\n",
    "            return {\n",
    "                \"question\": question,\n",
    "                \"answer\": \"I don't have enough information to answer this question. The search service might still be indexing.\",\n",
    "                \"sources\": []\n",
    "            }\n",
    "        context_parts = []\n",
    "        sources = []\n",
    "        for sop in results:\n",
    "            context_parts.append(\n",
    "                f\"[SOP {sop['SOP_ID']}] {sop['SOP_TITLE']}\\n\"\n",
    "                f\"Category: {sop['SOP_CATEGORY']}\\n\"\n",
    "                f\"Content: {sop.get('SOP_CONTENT', '')}\\n\"\n",
    "            )\n",
    "            sources.append({\n",
    "                \"sop_id\": sop['SOP_ID'],\n",
    "                \"title\": sop['SOP_TITLE'],\n",
    "                \"category\": sop['SOP_CATEGORY']\n",
    "            })\n",
    "        context = \"\\n---\\n\".join(context_parts)\n",
    "        prompt = f\"\"\"You are a hospital staff assistant. Answer the question based ONLY on the provided SOPs.\n",
    "\n",
    "Available SOPs:\n",
    "{context}\n",
    "\n",
    "Question: {question}\n",
    "\n",
    "Instructions:\n",
    "- Provide a clear, concise answer\n",
    "- Cite specific SOP IDs when referencing information\n",
    "- If the question cannot be answered from the SOPs, say so\n",
    "- Be professional and helpful\n",
    "\n",
    "Answer:\"\"\"\n",
    "        answer = complete(self.model, prompt, session=session)\n",
    "        return {\n",
    "            \"question\": question,\n",
    "            \"answer\": answer,\n",
    "            \"sources\": sources,\n",
    "            \"num_sources\": len(sources)\n",
    "        }\n",
    "\n",
    "    def search_facility_and_answer(self, question: str, search_limit: int = 3) -> dict:\n",
    "        search_results = cortex_search_facility(question, limit=search_limit)\n",
    "        results = search_results.to_dict().get('results', []) if search_results else []\n",
    "        if not results:\n",
    "            return {\n",
    "                \"question\": question,\n",
    "                \"answer\": \"I don't have enough information to answer this question. The search service might still be indexing.\",\n",
    "                \"sources\": []\n",
    "            }\n",
    "        context_parts = []\n",
    "        sources = []\n",
    "        for fac in results:\n",
    "            context_parts.append(\n",
    "                f\"[Facility {fac['FACILITY_ID']}] {fac['FACILITY_NAME']}\\n\"\n",
    "                f\"Type: {fac['FACILITY_TYPE']}\\n\"\n",
    "                f\"Location: {fac['LOCATION']}\\n\"\n",
    "                f\"Capacity: {fac.get('CAPACITY', '')}\\n\"\n",
    "                f\"Description: {fac.get('SEARCH_DOCUMENT', '')}\\n\"\n",
    "            )\n",
    "            sources.append({\n",
    "                \"facility_id\": fac['FACILITY_ID'],\n",
    "                \"name\": fac['FACILITY_NAME'],\n",
    "                \"type\": fac['FACILITY_TYPE'],\n",
    "                \"location\": fac['LOCATION']\n",
    "            })\n",
    "        context = \"\\n---\\n\".join(context_parts)\n",
    "        prompt = f\"\"\"You are a hospital staff assistant. Answer the question based ONLY on the provided facilities.\n",
    "\n",
    "Available Facilities:\n",
    "{context}\n",
    "\n",
    "Question: {question}\n",
    "\n",
    "Instructions:\n",
    "- Provide a clear, concise answer\n",
    "- Cite specific Facility IDs when referencing information\n",
    "- If the question cannot be answered from the facilities, say so\n",
    "- Be professional and helpful\n",
    "\n",
    "Answer:\"\"\"\n",
    "        answer = complete(self.model, prompt, session=session)\n",
    "        return {\n",
    "            \"question\": question,\n",
    "            \"answer\": answer,\n",
    "            \"sources\": sources,\n",
    "            \"num_sources\": len(sources)\n",
    "        }\n",
    "\n",
    "    def multi_document_qa(self, question: str) -> dict:\n",
    "        search_results = cortex_search_sop(question, limit=5)\n",
    "        results = search_results.to_dict().get('results', []) if search_results else []\n",
    "        if not results:\n",
    "            return {\n",
    "                \"question\": question,\n",
    "                \"answer\": \"No relevant documents found\",\n",
    "                \"sources\": []\n",
    "            }\n",
    "        answers = []\n",
    "        for sop in results:\n",
    "            try:\n",
    "                extracted = extract_answer(\n",
    "                    sop.get('SOP_CONTENT', ''),\n",
    "                    question,\n",
    "                    session=session\n",
    "                )\n",
    "                if extracted and extracted.strip():\n",
    "                    answers.append({\n",
    "                        \"source\": sop['SOP_ID'],\n",
    "                        \"title\": sop['SOP_TITLE'],\n",
    "                        \"answer\": extracted\n",
    "                    })\n",
    "            except Exception as e:\n",
    "                print(f\"Extract error for {sop['SOP_ID']}: {e}\")\n",
    "        if len(answers) > 1:\n",
    "            combined = \"\\n\\n\".join([f\"{a['title']}: {a['answer']}\" for a in answers])\n",
    "            synthesis_prompt = f\"\"\"Synthesize these answers into one coherent response:\n",
    "\n",
    "{combined}\n",
    "\n",
    "Original question: {question}\n",
    "\n",
    "Provide a unified, clear answer:\"\"\"\n",
    "            final_answer = complete(self.model, synthesis_prompt, session=session)\n",
    "        elif len(answers) == 1:\n",
    "            final_answer = answers[0]['answer']\n",
    "        else:\n",
    "            final_answer = \"Could not extract a clear answer from the available documents.\"\n",
    "        return {\n",
    "            \"question\": question,\n",
    "            \"answer\": final_answer,\n",
    "            \"sources\": [{\"sop_id\": a['source'], \"title\": a['title']} for a in answers],\n",
    "            \"detailed_answers\": answers\n",
    "        }\n",
    "\n",
    "    def summarize_sop_category(self, category: str) -> dict:\n",
    "        query = f\"\"\"\n",
    "        SELECT SOP_ID, SOP_TITLE, SOP_CONTENT\n",
    "        FROM hospital_sop\n",
    "        WHERE SOP_CATEGORY = '{category}'\n",
    "        LIMIT 10\n",
    "        \"\"\"\n",
    "        results = self.sf_helper.execute_query(query)\n",
    "        if results.empty:\n",
    "            return {\n",
    "                \"category\": category,\n",
    "                \"summary\": f\"No SOPs found in category: {category}\"\n",
    "            }\n",
    "        all_content = \"\\n\\n\".join([\n",
    "            f\"{row['SOP_TITLE']}: {row['SOP_CONTENT']}\"\n",
    "            for _, row in results.iterrows()\n",
    "        ])\n",
    "        summary = summarize(all_content, session=session)\n",
    "        return {\n",
    "            \"category\": category,\n",
    "            \"num_sops\": len(results),\n",
    "            \"summary\": summary,\n",
    "            \"sop_titles\": results['SOP_TITLE'].tolist()\n",
    "        }\n",
    "\n",
    "\n",
    "# Initialize advanced agent\n",
    "rag_agent = AdvancedRAGAgent(sf_helper)\n",
    "print(\"✓ Advanced RAG Agent initialized\")"
   ],
   "id": "995c8c0e91dfa834",
   "outputs": [
    {
     "name": "stdout",
     "output_type": "stream",
     "text": [
      "✓ Advanced RAG Agent initialized\n"
     ]
    }
   ],
   "execution_count": 48
  },
  {
   "metadata": {
    "ExecuteTime": {
     "end_time": "2025-10-13T03:21:39.946Z",
     "start_time": "2025-10-13T03:21:25.818318Z"
    }
   },
   "cell_type": "code",
   "source": [
    "print(\"\\n=== Testing Advanced RAG Agent ===\\n\")\n",
    "\n",
    "# Test 1: Search and Answer\n",
    "print(\"Test 1: Search and Answer\")\n",
    "print(\"-\" * 60)\n",
    "result1 = rag_agent.search_and_answer(\n",
    "    \"What are the steps for patient admission?\"\n",
    ")\n",
    "print(f\"Question: {result1['question']}\")\n",
    "print(f\"Answer: {result1['answer']}\")\n",
    "print(f\"\\nSources ({result1['num_sources']}):\")\n",
    "for src in result1['sources']:\n",
    "    print(f\"  - [{src['sop_id']}] {src['title']}\")\n",
    "\n",
    "# Test 2: Multi-document QA\n",
    "print(\"\\n\\nTest 2: Multi-Document QA\")\n",
    "print(\"-\" * 60)\n",
    "result2 = rag_agent.multi_document_qa(\n",
    "    \"How should staff handle emergency situations?\"\n",
    ")\n",
    "print(f\"Question: {result2['question']}\")\n",
    "print(f\"Answer: {result2['answer']}\")\n",
    "print(f\"\\nSources:\")\n",
    "for src in result2['sources']:\n",
    "    print(f\"  - [{src['sop_id']}] {src['title']}\")\n",
    "\n",
    "# Test 3: Category Summary\n",
    "print(\"\\n\\nTest 3: Category Summary\")\n",
    "print(\"-\" * 60)\n",
    "result3 = rag_agent.summarize_sop_category(\"Patient Care\")\n",
    "print(f\"Category: {result3['category']}\")\n",
    "print(f\"Number of SOPs: {result3['num_sops']}\")\n",
    "print(f\"Summary:\\n{result3['summary']}\")"
   ],
   "id": "5993f0d184b6e9c9",
   "outputs": [
    {
     "name": "stdout",
     "output_type": "stream",
     "text": [
      "\n",
      "=== Testing Advanced RAG Agent ===\n",
      "\n",
      "Test 1: Search and Answer\n",
      "------------------------------------------------------------\n",
      "Question: What are the steps for patient admission?\n",
      "Answer:  Based on the provided SOPs, the steps for patient admission are as follows:\n",
      "\n",
      "1. The patient is required to report to the Admitting Desk or Registration Area.\n",
      "2. The patient's demographic information, such as name, date of birth, and insurance details, is collected and recorded.\n",
      "3. The patient is assessed by a nurse or other healthcare professional to determine their medical condition and the level of care required.\n",
      "4. The patient's vital signs, such as temperature, blood pressure, pulse, and respiratory rate, are measured and recorded.\n",
      "5. The patient is given a hospital identification bracelet and a hospital gown.\n",
      "6. The patient's room and bed are assigned, and they are shown to their room.\n",
      "7. The patient's belongings are labeled and stored in the designated area.\n",
      "8. The patient is introduced to their healthcare team and the care plan is explained.\n",
      "\n",
      "[SOP Reference: SOP-0005]\n",
      "\n",
      "Sources (3):\n",
      "  - [SOP-0005] Patient Admission Procedure\n",
      "  - [SOP-0009] Patient Transfer Guidelines\n",
      "  - [SOP-0014] Patient Discharge Process\n",
      "\n",
      "\n",
      "Test 2: Multi-Document QA\n",
      "------------------------------------------------------------\n",
      "Question: How should staff handle emergency situations?\n",
      "Answer:  In the event of an emergency situation, staff should prioritize their safety and the safety of those around them by following established protocols. This includes the proper usage of Personal Protective Equipment (PPE) when necessary. For medical emergencies, staff should be trained in first aid and CPR, and should call for professional medical assistance if required. In case of a fire emergency, staff should activate the fire alarm, evacuate the building using the nearest exit, and do not use elevators. Additionally, staff should be familiar with the location of emergency exits and assembly points. It is essential to follow all established emergency procedures and communicate effectively with colleagues and emergency responders to ensure a safe and efficient response.\n",
      "\n",
      "Sources:\n",
      "  - [SOP-0002] Personal Protective Equipment Usage\n",
      "  - [SOP-0004] Medical Emergency Response\n",
      "  - [SOP-0016] Fire Emergency Protocol\n",
      "  - [SOP-0008] Personal Protective Equipment Usage\n",
      "  - [SOP-0018] Personal Protective Equipment Usage\n",
      "\n",
      "\n",
      "Test 3: Category Summary\n",
      "------------------------------------------------------------\n",
      "Category: Patient Care\n",
      "Number of SOPs: 7\n",
      "Summary:\n",
      "All procedures involve assessing the situation, following department guidelines, documenting actions, and reporting to a supervisor when necessary: Medication Administration Protocol, Patient Admission Procedure, Patient Transfer Guidelines, and Patient Discharge Process.\n"
     ]
    }
   ],
   "execution_count": 49
  }
 ],
 "metadata": {
  "kernelspec": {
   "display_name": "Python 3",
   "language": "python",
   "name": "python3"
  },
  "language_info": {
   "codemirror_mode": {
    "name": "ipython",
    "version": 2
   },
   "file_extension": ".py",
   "mimetype": "text/x-python",
   "name": "python",
   "nbconvert_exporter": "python",
   "pygments_lexer": "ipython2",
   "version": "2.7.6"
  }
 },
 "nbformat": 4,
 "nbformat_minor": 5
}
