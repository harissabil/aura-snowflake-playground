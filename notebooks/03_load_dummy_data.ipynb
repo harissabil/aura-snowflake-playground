{
 "cells": [
  {
   "cell_type": "code",
   "id": "initial_id",
   "metadata": {
    "collapsed": true,
    "ExecuteTime": {
     "end_time": "2025-10-24T06:14:52.677233Z",
     "start_time": "2025-10-24T06:14:46.928526Z"
    }
   },
   "source": [
    "import sys\n",
    "sys.path.append('..')\n",
    "\n",
    "from src.config import SnowflakeConfig, validate_config\n",
    "from src.utils.snowflake_helper import SnowflakeHelper\n",
    "# from src.data.dummy_data_generator import HospitalDataGenerator\n",
    "from src.data.enhanced_dummy_data_generator import EnhancedHospitalDataGenerator\n",
    "\n",
    "# Validate configuration\n",
    "validate_config()"
   ],
   "outputs": [
    {
     "name": "stdout",
     "output_type": "stream",
     "text": [
      "✓ Configuration validated successfully\n"
     ]
    }
   ],
   "execution_count": 1
  },
  {
   "metadata": {},
   "cell_type": "markdown",
   "source": "### Connect to Snowflake",
   "id": "5ea3716df5c71459"
  },
  {
   "metadata": {
    "ExecuteTime": {
     "end_time": "2025-10-24T06:14:57.833833Z",
     "start_time": "2025-10-24T06:14:55.991571Z"
    }
   },
   "cell_type": "code",
   "source": [
    "config = SnowflakeConfig()\n",
    "sf_helper = SnowflakeHelper(config.get_connection_params())\n",
    "session = sf_helper.connect()"
   ],
   "id": "e6589d248a3cb396",
   "outputs": [
    {
     "name": "stdout",
     "output_type": "stream",
     "text": [
      "✓ Connected to Snowflake as harismad\n",
      "  Role: \"DEV_ROLE\"\n",
      "  Warehouse: \"TEST_WAREHOUSE\"\n",
      "  Database: \"TEST_DATABASE\"\n",
      "  Schema: \"TEST_SCHEMA\"\n"
     ]
    }
   ],
   "execution_count": 2
  },
  {
   "metadata": {},
   "cell_type": "markdown",
   "source": "### Generate Dummy Data",
   "id": "74319cca83e7e943"
  },
  {
   "metadata": {
    "ExecuteTime": {
     "end_time": "2025-10-24T06:15:00.730990Z",
     "start_time": "2025-10-24T06:15:00.619606Z"
    }
   },
   "cell_type": "code",
   "source": [
    "# Initialize the enhanced generator\n",
    "generator = EnhancedHospitalDataGenerator(seed=42)\n",
    "\n",
    "# Generate all data with proper relationships\n",
    "print(\"Generating all hospital data...\")\n",
    "hospital_data = generator.generate_all_data()\n",
    "\n",
    "# Extract individual dataframes\n",
    "sop_data = hospital_data[\"hospital_sop\"]\n",
    "schedule_data = hospital_data[\"doctor_schedule\"]\n",
    "facility_data = hospital_data[\"hospital_facilities\"]\n",
    "appointments_data = hospital_data[\"appointments\"]\n",
    "\n",
    "# Display samples\n",
    "print(\"\\n=== SOP Data Sample ===\")\n",
    "print(sop_data.head(5))\n",
    "\n",
    "print(\"\\n=== Doctor Schedule Sample ===\")\n",
    "print(schedule_data.head(5))\n",
    "\n",
    "print(\"\\n=== Facility Data Sample ===\")\n",
    "print(facility_data.head(5))\n",
    "\n",
    "print(\"\\n=== Appointments Data Sample ===\")\n",
    "print(appointments_data.head(5))"
   ],
   "id": "edc64492bf9bf8fc",
   "outputs": [
    {
     "name": "stdout",
     "output_type": "stream",
     "text": [
      "Generating all hospital data...\n",
      "Generating SOP data...\n",
      "Generating doctor schedules...\n",
      "Generating facility data...\n",
      "Generating appointments...\n",
      "\n",
      "=== SOP Data Sample ===\n",
      "     SOP_ID  SOP_CATEGORY                             SOP_TITLE  \\\n",
      "0  SOP-0001  Patient Care            Triage Assessment Protocol   \n",
      "1  SOP-0002  Patient Care             Patient Admission Process   \n",
      "2  SOP-0003  Patient Care  Medication Administration Guidelines   \n",
      "3  SOP-0004  Patient Care        Patient Transfer Between Units   \n",
      "4  SOP-0005  Patient Care            Patient Discharge Planning   \n",
      "\n",
      "                                         SOP_CONTENT DEPARTMENT  \\\n",
      "0  Perform systematic patient assessment using ES...  Emergency   \n",
      "1  Verify patient identity using two identifiers....  Emergency   \n",
      "2  Follow five rights: right patient, medication,...  Emergency   \n",
      "3  Obtain transfer order from physician. Ensure a...  Emergency   \n",
      "4  Initiate discharge planning within 24 hours of...  Emergency   \n",
      "\n",
      "                LAST_UPDATED VERSION  \n",
      "0 2024-12-17 13:15:00.624648    v1.0  \n",
      "1 2025-05-05 13:15:00.624670    v2.3  \n",
      "2 2025-06-27 13:15:00.624680    v1.8  \n",
      "3 2025-08-25 13:15:00.624688    v4.0  \n",
      "4 2025-01-29 13:15:00.624694    v1.3  \n",
      "\n",
      "=== Doctor Schedule Sample ===\n",
      "  SCHEDULE_ID DOCTOR_ID         DOCTOR_NAME        SPECIALIZATION DAY_OF_WEEK  \\\n",
      "0    SCH-0001   DOC-001  Dr. Siti Rahmawati  General Practitioner      Monday   \n",
      "1    SCH-0002   DOC-001  Dr. Siti Rahmawati  General Practitioner     Tuesday   \n",
      "2    SCH-0003   DOC-001  Dr. Siti Rahmawati  General Practitioner   Wednesday   \n",
      "3    SCH-0004   DOC-001  Dr. Siti Rahmawati  General Practitioner    Thursday   \n",
      "4    SCH-0005   DOC-001  Dr. Siti Rahmawati  General Practitioner    Saturday   \n",
      "\n",
      "  START_TIME  END_TIME ROOM_NUMBER  MAX_PATIENTS  BOOKED_PATIENTS     STATUS  \n",
      "0   09:00:00  12:00:00         104            20               14  AVAILABLE  \n",
      "1   13:00:00  16:00:00         308            20               20       FULL  \n",
      "2   13:00:00  17:00:00         508            20                5  AVAILABLE  \n",
      "3   14:00:00  18:00:00         105            20                0  AVAILABLE  \n",
      "4   14:00:00  17:00:00         209            20                1  AVAILABLE  \n",
      "\n",
      "=== Facility Data Sample ===\n",
      "  FACILITY_ID     FACILITY_NAME   FACILITY_TYPE              LOCATION  \\\n",
      "0    FAC-0001  Operating Room 1  Operating Room  Building B - Floor 3   \n",
      "1    FAC-0002  Operating Room 2  Operating Room  Building B - Floor 3   \n",
      "2    FAC-0003  Operating Room 3  Operating Room  Building B - Floor 3   \n",
      "3    FAC-0004  Operating Room 4  Operating Room  Building B - Floor 3   \n",
      "4    FAC-0005  Operating Room 5  Operating Room  Building B - Floor 2   \n",
      "\n",
      "   CAPACITY  CURRENT_USAGE OPERATING_HOURS CONTACT_INFO  \\\n",
      "0         1              1            24/7    ext. 5839   \n",
      "1         1              0            24/7    ext. 6099   \n",
      "2         1              1            24/7    ext. 2326   \n",
      "3         1              1            24/7    ext. 2211   \n",
      "4         1              0            24/7    ext. 8848   \n",
      "\n",
      "                                      EQUIPMENT_LIST       STATUS  \n",
      "0  Anesthesia machine, surgical lights, patient m...  OPERATIONAL  \n",
      "1  Anesthesia machine, surgical lights, patient m...  MAINTENANCE  \n",
      "2  Anesthesia machine, surgical lights, patient m...  OPERATIONAL  \n",
      "3  Anesthesia machine, surgical lights, patient m...  OPERATIONAL  \n",
      "4  Anesthesia machine, surgical lights, patient m...      OFFLINE  \n",
      "\n",
      "=== Appointments Data Sample ===\n",
      "  APPOINTMENT_ID PATIENT_ID DOCTOR_ID SCHEDULE_ID APPOINTMENT_DATE  \\\n",
      "0       APT-0001   PAT-6383   DOC-005    SCH-0020       2025-11-13   \n",
      "1       APT-0002   PAT-8994   DOC-017    SCH-0067       2025-11-15   \n",
      "2       APT-0003   PAT-4727   DOC-017    SCH-0066       2025-11-13   \n",
      "3       APT-0004   PAT-8269   DOC-007    SCH-0029       2025-11-13   \n",
      "4       APT-0005   PAT-5806   DOC-002    SCH-0006       2025-11-03   \n",
      "\n",
      "  APPOINTMENT_TIME     STATUS                 CREATED_AT  \n",
      "0         16:30:00  CANCELLED 2025-09-13 13:15:00.644925  \n",
      "1         16:00:00  SCHEDULED 2025-10-08 13:15:00.644964  \n",
      "2         09:30:00  CANCELLED 2025-09-05 13:15:00.644993  \n",
      "3         10:30:00  CANCELLED 2025-10-21 13:15:00.645018  \n",
      "4         13:30:00  SCHEDULED 2025-10-08 13:15:00.645043  \n"
     ]
    }
   ],
   "execution_count": 3
  },
  {
   "metadata": {},
   "cell_type": "markdown",
   "source": "### Load Data into Snowflake",
   "id": "c07f065a0558648c"
  },
  {
   "metadata": {
    "ExecuteTime": {
     "end_time": "2025-10-24T06:15:56.382933Z",
     "start_time": "2025-10-24T06:15:30.181749Z"
    }
   },
   "cell_type": "code",
   "source": [
    "# Load data to Snowflake tables\n",
    "print(\"\\nLoading data to Snowflake...\")\n",
    "sf_helper.load_data_to_table(sop_data, \"hospital_sop\", overwrite=True)\n",
    "sf_helper.load_data_to_table(schedule_data, \"doctor_schedule\", overwrite=True)\n",
    "sf_helper.load_data_to_table(facility_data, \"hospital_facilities\", overwrite=True)\n",
    "sf_helper.load_data_to_table(appointments_data, \"appointments\", overwrite=True)\n",
    "\n",
    "print(\"✓ All data loaded successfully!\")"
   ],
   "id": "557942bf32b27669",
   "outputs": [
    {
     "name": "stdout",
     "output_type": "stream",
     "text": [
      "\n",
      "Loading data to Snowflake...\n",
      "✓ Loaded 40 rows to hospital_sop\n",
      "✓ Loaded 95 rows to doctor_schedule\n",
      "✓ Loaded 40 rows to hospital_facilities\n",
      "✓ Loaded 167 rows to appointments\n",
      "✓ All data loaded successfully!\n"
     ]
    }
   ],
   "execution_count": 4
  },
  {
   "metadata": {},
   "cell_type": "markdown",
   "source": "### Verify Data Load",
   "id": "41a491a64b49449d"
  },
  {
   "metadata": {
    "ExecuteTime": {
     "end_time": "2025-10-24T06:16:24.378882Z",
     "start_time": "2025-10-24T06:16:22.620234Z"
    }
   },
   "cell_type": "code",
   "source": [
    "# Verify data counts\n",
    "query_sop = \"SELECT COUNT(*) as count FROM hospital_sop\"\n",
    "query_schedule = \"SELECT COUNT(*) as count FROM doctor_schedule\"\n",
    "query_facility = \"SELECT COUNT(*) as count FROM hospital_facilities\"\n",
    "query_appointments = \"SELECT COUNT(*) as count FROM appointments\"\n",
    "\n",
    "print(f\"\\n=== Record Counts ===\")\n",
    "print(f\"SOP records: {sf_helper.execute_query(query_sop)['COUNT'].iloc[0]}\")\n",
    "print(f\"Schedule records: {sf_helper.execute_query(query_schedule)['COUNT'].iloc[0]}\")\n",
    "print(f\"Facility records: {sf_helper.execute_query(query_facility)['COUNT'].iloc[0]}\")\n",
    "print(f\"Appointments records: {sf_helper.execute_query(query_appointments)['COUNT'].iloc[0]}\")"
   ],
   "id": "793c7f58efb5fe7b",
   "outputs": [
    {
     "name": "stdout",
     "output_type": "stream",
     "text": [
      "\n",
      "=== Record Counts ===\n",
      "SOP records: 40\n",
      "Schedule records: 95\n",
      "Facility records: 40\n",
      "Appointments records: 167\n"
     ]
    }
   ],
   "execution_count": 5
  },
  {
   "metadata": {},
   "cell_type": "markdown",
   "source": "### Sample Query",
   "id": "b4b2bfd8f2d287d9"
  },
  {
   "metadata": {
    "ExecuteTime": {
     "end_time": "2025-10-24T06:16:33.655807Z",
     "start_time": "2025-10-24T06:16:30.948292Z"
    }
   },
   "cell_type": "code",
   "source": [
    "# Sample queries to verify data quality\n",
    "print(\"\\n=== Sample Query: Patient Care SOPs ===\")\n",
    "query = \"\"\"\n",
    "SELECT SOP_TITLE, SOP_CATEGORY, DEPARTMENT\n",
    "FROM hospital_sop\n",
    "WHERE SOP_CATEGORY = 'Patient Care'\n",
    "LIMIT 5\n",
    "\"\"\"\n",
    "result = sf_helper.execute_query(query)\n",
    "print(result)\n",
    "\n",
    "print(\"\\n=== Sample Query: Doctor Schedules ===\")\n",
    "query = \"\"\"\n",
    "SELECT DOCTOR_NAME, SPECIALIZATION, DAY_OF_WEEK,\n",
    "       START_TIME, END_TIME, MAX_PATIENTS, BOOKED_PATIENTS\n",
    "FROM doctor_schedule\n",
    "WHERE DAY_OF_WEEK = 'Monday'\n",
    "LIMIT 5\n",
    "\"\"\"\n",
    "result = sf_helper.execute_query(query)\n",
    "print(result)\n",
    "\n",
    "print(\"\\n=== Sample Query: Upcoming Appointments ===\")\n",
    "query = \"\"\"\n",
    "SELECT a.APPOINTMENT_ID, a.APPOINTMENT_DATE, a.APPOINTMENT_TIME,\n",
    "       d.DOCTOR_NAME, d.SPECIALIZATION, a.STATUS\n",
    "FROM appointments a\n",
    "JOIN doctor_schedule d ON a.SCHEDULE_ID = d.SCHEDULE_ID\n",
    "WHERE a.APPOINTMENT_DATE >= CURRENT_DATE()\n",
    "  AND a.STATUS = 'SCHEDULED'\n",
    "ORDER BY a.APPOINTMENT_DATE, a.APPOINTMENT_TIME\n",
    "LIMIT 10\n",
    "\"\"\"\n",
    "result = sf_helper.execute_query(query)\n",
    "print(result)\n",
    "\n",
    "print(\"\\n=== Sample Query: Facility Utilization ===\")\n",
    "query = \"\"\"\n",
    "SELECT FACILITY_TYPE,\n",
    "       COUNT(*) as total_facilities,\n",
    "       SUM(CASE WHEN STATUS = 'OPERATIONAL' THEN 1 ELSE 0 END) as operational,\n",
    "       ROUND(AVG(CURRENT_USAGE * 100.0 / CAPACITY), 2) as avg_utilization_pct\n",
    "FROM hospital_facilities\n",
    "WHERE CAPACITY > 0\n",
    "GROUP BY FACILITY_TYPE\n",
    "ORDER BY total_facilities DESC\n",
    "\"\"\"\n",
    "result = sf_helper.execute_query(query)\n",
    "print(result)"
   ],
   "id": "494dea18c3cf9f3a",
   "outputs": [
    {
     "name": "stdout",
     "output_type": "stream",
     "text": [
      "\n",
      "=== Sample Query: Patient Care SOPs ===\n",
      "                              SOP_TITLE  SOP_CATEGORY DEPARTMENT\n",
      "0            Triage Assessment Protocol  Patient Care  Emergency\n",
      "1             Patient Admission Process  Patient Care  Emergency\n",
      "2  Medication Administration Guidelines  Patient Care  Emergency\n",
      "3        Patient Transfer Between Units  Patient Care  Emergency\n",
      "4            Patient Discharge Planning  Patient Care  Emergency\n",
      "\n",
      "=== Sample Query: Doctor Schedules ===\n",
      "          DOCTOR_NAME        SPECIALIZATION DAY_OF_WEEK START_TIME  END_TIME  \\\n",
      "0  Dr. Siti Rahmawati  General Practitioner      Monday   09:00:00  12:00:00   \n",
      "1    Dr. Citra Kusuma          Cardiologist      Monday   13:00:00  17:00:00   \n",
      "2   Dr. Ahmad Santoso          Pediatrician      Monday   13:00:00  16:00:00   \n",
      "3    Dr. Nina Puspita         Dermatologist      Monday   08:00:00  11:00:00   \n",
      "4   Dr. Indah Lestari          Gynecologist      Monday   08:00:00  12:00:00   \n",
      "\n",
      "   MAX_PATIENTS  BOOKED_PATIENTS  \n",
      "0            20               14  \n",
      "1            15                5  \n",
      "2            18                8  \n",
      "3            16                1  \n",
      "4            14               13  \n",
      "\n",
      "=== Sample Query: Upcoming Appointments ===\n",
      "  APPOINTMENT_ID APPOINTMENT_DATE APPOINTMENT_TIME          DOCTOR_NAME  \\\n",
      "0       APT-0096       2025-10-24         10:30:00  Dr. Putri Anggraini   \n",
      "1       APT-0132       2025-10-25         08:30:00   Dr. Siti Rahmawati   \n",
      "2       APT-0024       2025-10-25         09:00:00    Dr. Toni Setiawan   \n",
      "3       APT-0148       2025-10-25         10:30:00   Dr. Siti Rahmawati   \n",
      "4       APT-0128       2025-10-25         10:30:00     Dr. Citra Kusuma   \n",
      "5       APT-0027       2025-10-25         11:30:00    Dr. Ayu Damayanti   \n",
      "6       APT-0108       2025-10-25         12:00:00  Dr. Putri Anggraini   \n",
      "7       APT-0038       2025-10-25         14:00:00    Dr. Indah Lestari   \n",
      "8       APT-0157       2025-10-25         16:00:00    Dr. Ayu Damayanti   \n",
      "9       APT-0021       2025-10-27         12:30:00    Dr. Indah Lestari   \n",
      "\n",
      "         SPECIALIZATION     STATUS  \n",
      "0          Psychiatrist  SCHEDULED  \n",
      "1  General Practitioner  SCHEDULED  \n",
      "2           Neurologist  SCHEDULED  \n",
      "3  General Practitioner  SCHEDULED  \n",
      "4          Cardiologist  SCHEDULED  \n",
      "5          Pediatrician  SCHEDULED  \n",
      "6  General Practitioner  SCHEDULED  \n",
      "7         Pulmonologist  SCHEDULED  \n",
      "8          Pediatrician  SCHEDULED  \n",
      "9        ENT Specialist  SCHEDULED  \n",
      "\n",
      "=== Sample Query: Facility Utilization ===\n",
      "       FACILITY_TYPE  TOTAL_FACILITIES  OPERATIONAL  AVG_UTILIZATION_PCT\n",
      "0  Consultation Room                14           11                28.57\n",
      "1            ICU Bed                12            9                50.00\n",
      "2     Operating Room                 8            5                62.50\n",
      "3     Emergency Room                 6            3                33.33\n"
     ]
    }
   ],
   "execution_count": 6
  }
 ],
 "metadata": {
  "kernelspec": {
   "display_name": "Python 3",
   "language": "python",
   "name": "python3"
  },
  "language_info": {
   "codemirror_mode": {
    "name": "ipython",
    "version": 2
   },
   "file_extension": ".py",
   "mimetype": "text/x-python",
   "name": "python",
   "nbconvert_exporter": "python",
   "pygments_lexer": "ipython2",
   "version": "2.7.6"
  }
 },
 "nbformat": 4,
 "nbformat_minor": 5
}
