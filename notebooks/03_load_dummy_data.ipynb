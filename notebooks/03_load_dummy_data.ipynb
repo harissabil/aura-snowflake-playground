{
 "cells": [
  {
   "cell_type": "code",
   "id": "initial_id",
   "metadata": {
    "collapsed": true,
    "ExecuteTime": {
     "end_time": "2025-10-12T16:40:21.475653Z",
     "start_time": "2025-10-12T16:40:21.404732Z"
    }
   },
   "source": [
    "import sys\n",
    "sys.path.append('..')\n",
    "\n",
    "from src.config import SnowflakeConfig, validate_config\n",
    "from src.utils.snowflake_helper import SnowflakeHelper\n",
    "from src.data.dummy_data_generator import HospitalDataGenerator\n",
    "\n",
    "# Validate configuration\n",
    "validate_config()"
   ],
   "outputs": [
    {
     "name": "stdout",
     "output_type": "stream",
     "text": [
      "✓ Configuration validated successfully\n"
     ]
    }
   ],
   "execution_count": 2
  },
  {
   "metadata": {},
   "cell_type": "markdown",
   "source": "### Connect to Snowflake",
   "id": "5ea3716df5c71459"
  },
  {
   "metadata": {
    "ExecuteTime": {
     "end_time": "2025-10-12T16:40:43.842889Z",
     "start_time": "2025-10-12T16:40:41.825998Z"
    }
   },
   "cell_type": "code",
   "source": [
    "config = SnowflakeConfig()\n",
    "sf_helper = SnowflakeHelper(config.get_connection_params())\n",
    "session = sf_helper.connect()"
   ],
   "id": "e6589d248a3cb396",
   "outputs": [
    {
     "name": "stdout",
     "output_type": "stream",
     "text": [
      "✓ Connected to Snowflake as harismad\n",
      "  Role: \"DEV_ROLE\"\n",
      "  Warehouse: \"TEST_WAREHOUSE\"\n",
      "  Database: \"TEST_DATABASE\"\n",
      "  Schema: \"TEST_SCHEMA\"\n"
     ]
    }
   ],
   "execution_count": 3
  },
  {
   "metadata": {},
   "cell_type": "markdown",
   "source": "### Generate Dummy Data",
   "id": "74319cca83e7e943"
  },
  {
   "metadata": {
    "ExecuteTime": {
     "end_time": "2025-10-12T16:43:08.297664Z",
     "start_time": "2025-10-12T16:43:08.265185Z"
    }
   },
   "cell_type": "code",
   "source": [
    "sop_data = HospitalDataGenerator.generate_sop_data(20)\n",
    "schedule_data = HospitalDataGenerator.generate_doctor_schedule(15)\n",
    "facility_data = HospitalDataGenerator.generate_facility_data(25)\n",
    "\n",
    "# Display samples\n",
    "print(\"SOP Data Sample:\")\n",
    "print(sop_data.head(5))\n",
    "\n",
    "print(\"\\nDoctor Schedule Sample:\")\n",
    "print(schedule_data.head(5))\n",
    "\n",
    "print(\"\\nFacility Data Sample:\")\n",
    "print(facility_data.head(5))"
   ],
   "id": "edc64492bf9bf8fc",
   "outputs": [
    {
     "name": "stdout",
     "output_type": "stream",
     "text": [
      "SOP Data Sample:\n",
      "     SOP_ID          SOP_CATEGORY                            SOP_TITLE  \\\n",
      "0  SOP-0001        Administrative     Appointment Scheduling Procedure   \n",
      "1  SOP-0002       Safety Protocol  Personal Protective Equipment Usage   \n",
      "2  SOP-0003          Patient Care   Medication Administration Protocol   \n",
      "3  SOP-0004  Emergency Procedures           Medical Emergency Response   \n",
      "4  SOP-0005          Patient Care          Patient Admission Procedure   \n",
      "\n",
      "                                         SOP_CONTENT  DEPARTMENT  \\\n",
      "0  This is the detailed procedure for Appointment...  Laboratory   \n",
      "1  This is the detailed procedure for Personal Pr...   Emergency   \n",
      "2  This is the detailed procedure for Medication ...     Surgery   \n",
      "3  This is the detailed procedure for Medical Eme...   Radiology   \n",
      "4  This is the detailed procedure for Patient Adm...         ICU   \n",
      "\n",
      "                LAST_UPDATED VERSION  \n",
      "0 2025-09-22 23:43:08.269103    v3.4  \n",
      "1 2025-03-09 23:43:08.269171    v3.4  \n",
      "2 2025-02-05 23:43:08.269187    v5.4  \n",
      "3 2024-10-29 23:43:08.269200    v2.1  \n",
      "4 2025-05-13 23:43:08.269211    v3.8  \n",
      "\n",
      "Doctor Schedule Sample:\n",
      "  SCHEDULE_ID DOCTOR_ID      DOCTOR_NAME        SPECIALIZATION DAY_OF_WEEK  \\\n",
      "0    SCH-0001   DOC-001  Dr. Hadi Kusuma  General Practitioner      Friday   \n",
      "1    SCH-0002   DOC-001  Dr. Hadi Kusuma  General Practitioner     Tuesday   \n",
      "2    SCH-0003   DOC-002  Dr. Eko Pratama          Psychiatrist    Thursday   \n",
      "3    SCH-0004   DOC-002  Dr. Eko Pratama          Psychiatrist   Wednesday   \n",
      "4    SCH-0005   DOC-002  Dr. Eko Pratama          Psychiatrist    Saturday   \n",
      "\n",
      "  START_TIME  END_TIME ROOM_NUMBER  MAX_PATIENTS  BOOKED_PATIENTS     STATUS  \n",
      "0   10:00:00  13:00:00         509            20               13  AVAILABLE  \n",
      "1   13:00:00  15:00:00         403            10                8  AVAILABLE  \n",
      "2   10:00:00  14:00:00         207            20                1       FULL  \n",
      "3   15:00:00  17:00:00         107            15                1  AVAILABLE  \n",
      "4   08:00:00  12:00:00         304            10                3  AVAILABLE  \n",
      "\n",
      "Facility Data Sample:\n",
      "  FACILITY_ID        FACILITY_NAME      FACILITY_TYPE              LOCATION  \\\n",
      "0    FAC-0001        MRI Scanner 5        MRI Scanner  Building A - Floor 1   \n",
      "1    FAC-0002            ICU Bed 4            ICU Bed  Building C - Floor 1   \n",
      "2    FAC-0003     Emergency Room 2     Emergency Room  Building B - Floor 2   \n",
      "3    FAC-0004  Consultation Room 1  Consultation Room  Building A - Floor 1   \n",
      "4    FAC-0005       Waiting Area 4       Waiting Area  Building B - Floor 1   \n",
      "\n",
      "   CAPACITY  CURRENT_USAGE OPERATING_HOURS CONTACT_INFO  \\\n",
      "0        50              6            24/7    ext. 6201   \n",
      "1         5              8     08:00-20:00    ext. 9710   \n",
      "2         1             10     08:00-20:00    ext. 5512   \n",
      "3        20              7     08:00-17:00    ext. 8336   \n",
      "4         5              0     08:00-17:00    ext. 2684   \n",
      "\n",
      "                                      EQUIPMENT_LIST       STATUS  \n",
      "0  Standard medical equipment, monitors, emergenc...  OPERATIONAL  \n",
      "1  Standard medical equipment, monitors, emergenc...  OPERATIONAL  \n",
      "2  Standard medical equipment, monitors, emergenc...  OPERATIONAL  \n",
      "3  Standard medical equipment, monitors, emergenc...  MAINTENANCE  \n",
      "4  Standard medical equipment, monitors, emergenc...  OPERATIONAL  \n"
     ]
    }
   ],
   "execution_count": 6
  },
  {
   "metadata": {},
   "cell_type": "markdown",
   "source": "### Load Data into Snowflake",
   "id": "c07f065a0558648c"
  },
  {
   "metadata": {
    "ExecuteTime": {
     "end_time": "2025-10-12T16:44:59.747564Z",
     "start_time": "2025-10-12T16:44:30.303738Z"
    }
   },
   "cell_type": "code",
   "source": [
    "sf_helper.load_data_to_table(sop_data, \"hospital_sop\", overwrite=True)\n",
    "sf_helper.load_data_to_table(schedule_data, \"doctor_schedule\", overwrite=True)\n",
    "sf_helper.load_data_to_table(facility_data, \"hospital_facilities\", overwrite=True)\n",
    "\n",
    "print(\"✓ All data loaded successfully!\")"
   ],
   "id": "557942bf32b27669",
   "outputs": [
    {
     "name": "stdout",
     "output_type": "stream",
     "text": [
      "✓ Loaded 20 rows to hospital_sop\n",
      "✓ Loaded 45 rows to doctor_schedule\n",
      "✓ Loaded 25 rows to hospital_facilities\n",
      "✓ All data loaded successfully!\n"
     ]
    }
   ],
   "execution_count": 7
  },
  {
   "metadata": {},
   "cell_type": "markdown",
   "source": "### Verify Data Load",
   "id": "41a491a64b49449d"
  },
  {
   "metadata": {
    "ExecuteTime": {
     "end_time": "2025-10-12T16:45:32.295701Z",
     "start_time": "2025-10-12T16:45:30.500127Z"
    }
   },
   "cell_type": "code",
   "source": [
    "query_sop = \"SELECT COUNT(*) as count FROM hospital_sop\"\n",
    "query_schedule = \"SELECT COUNT(*) as count FROM doctor_schedule\"\n",
    "query_facility = \"SELECT COUNT(*) as count FROM hospital_facilities\"\n",
    "\n",
    "print(f\"SOP records: {sf_helper.execute_query(query_sop)['COUNT'].iloc[0]}\")\n",
    "print(f\"Schedule records: {sf_helper.execute_query(query_schedule)['COUNT'].iloc[0]}\")\n",
    "print(f\"Facility records: {sf_helper.execute_query(query_facility)['COUNT'].iloc[0]}\")\n"
   ],
   "id": "793c7f58efb5fe7b",
   "outputs": [
    {
     "name": "stdout",
     "output_type": "stream",
     "text": [
      "SOP records: 20\n",
      "Schedule records: 45\n",
      "Facility records: 25\n"
     ]
    }
   ],
   "execution_count": 8
  },
  {
   "metadata": {},
   "cell_type": "markdown",
   "source": "### Sample Query",
   "id": "b4b2bfd8f2d287d9"
  },
  {
   "metadata": {
    "ExecuteTime": {
     "end_time": "2025-10-12T16:46:32.921777Z",
     "start_time": "2025-10-12T16:46:31.916741Z"
    }
   },
   "cell_type": "code",
   "source": [
    "query = \"\"\"\n",
    "SELECT SOP_TITLE, SOP_CATEGORY, DEPARTMENT\n",
    "FROM hospital_sop\n",
    "WHERE SOP_CATEGORY = 'Patient Care'\n",
    "LIMIT 5\n",
    "\"\"\"\n",
    "result = sf_helper.execute_query(query)\n",
    "result"
   ],
   "id": "494dea18c3cf9f3a",
   "outputs": [
    {
     "data": {
      "text/plain": [
       "                            SOP_TITLE  SOP_CATEGORY  DEPARTMENT\n",
       "0  Medication Administration Protocol  Patient Care     Surgery\n",
       "1         Patient Admission Procedure  Patient Care         ICU\n",
       "2         Patient Transfer Guidelines  Patient Care   Radiology\n",
       "3           Patient Discharge Process  Patient Care  Outpatient\n",
       "4           Patient Discharge Process  Patient Care   Radiology"
      ],
      "text/html": [
       "<div>\n",
       "<style scoped>\n",
       "    .dataframe tbody tr th:only-of-type {\n",
       "        vertical-align: middle;\n",
       "    }\n",
       "\n",
       "    .dataframe tbody tr th {\n",
       "        vertical-align: top;\n",
       "    }\n",
       "\n",
       "    .dataframe thead th {\n",
       "        text-align: right;\n",
       "    }\n",
       "</style>\n",
       "<table border=\"1\" class=\"dataframe\">\n",
       "  <thead>\n",
       "    <tr style=\"text-align: right;\">\n",
       "      <th></th>\n",
       "      <th>SOP_TITLE</th>\n",
       "      <th>SOP_CATEGORY</th>\n",
       "      <th>DEPARTMENT</th>\n",
       "    </tr>\n",
       "  </thead>\n",
       "  <tbody>\n",
       "    <tr>\n",
       "      <th>0</th>\n",
       "      <td>Medication Administration Protocol</td>\n",
       "      <td>Patient Care</td>\n",
       "      <td>Surgery</td>\n",
       "    </tr>\n",
       "    <tr>\n",
       "      <th>1</th>\n",
       "      <td>Patient Admission Procedure</td>\n",
       "      <td>Patient Care</td>\n",
       "      <td>ICU</td>\n",
       "    </tr>\n",
       "    <tr>\n",
       "      <th>2</th>\n",
       "      <td>Patient Transfer Guidelines</td>\n",
       "      <td>Patient Care</td>\n",
       "      <td>Radiology</td>\n",
       "    </tr>\n",
       "    <tr>\n",
       "      <th>3</th>\n",
       "      <td>Patient Discharge Process</td>\n",
       "      <td>Patient Care</td>\n",
       "      <td>Outpatient</td>\n",
       "    </tr>\n",
       "    <tr>\n",
       "      <th>4</th>\n",
       "      <td>Patient Discharge Process</td>\n",
       "      <td>Patient Care</td>\n",
       "      <td>Radiology</td>\n",
       "    </tr>\n",
       "  </tbody>\n",
       "</table>\n",
       "</div>"
      ]
     },
     "execution_count": 9,
     "metadata": {},
     "output_type": "execute_result"
    }
   ],
   "execution_count": 9
  }
 ],
 "metadata": {
  "kernelspec": {
   "display_name": "Python 3",
   "language": "python",
   "name": "python3"
  },
  "language_info": {
   "codemirror_mode": {
    "name": "ipython",
    "version": 2
   },
   "file_extension": ".py",
   "mimetype": "text/x-python",
   "name": "python",
   "nbconvert_exporter": "python",
   "pygments_lexer": "ipython2",
   "version": "2.7.6"
  }
 },
 "nbformat": 4,
 "nbformat_minor": 5
}
