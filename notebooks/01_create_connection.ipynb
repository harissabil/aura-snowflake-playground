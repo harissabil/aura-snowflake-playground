{
 "cells": [
  {
   "metadata": {
    "ExecuteTime": {
     "end_time": "2025-10-12T16:06:16.089946Z",
     "start_time": "2025-10-12T16:06:16.066360Z"
    }
   },
   "cell_type": "code",
   "source": [
    "from dotenv import load_dotenv\n",
    "import os"
   ],
   "id": "4596b1b9311bf25f",
   "outputs": [],
   "execution_count": 1
  },
  {
   "cell_type": "code",
   "id": "initial_id",
   "metadata": {
    "collapsed": true,
    "ExecuteTime": {
     "end_time": "2025-10-12T16:06:19.452809Z",
     "start_time": "2025-10-12T16:06:19.429754Z"
    }
   },
   "source": [
    "load_dotenv()\n",
    "\n",
    "CONNECTION_PARAMETERS = {\n",
    "    \"account\": os.getenv(\"SNOWFLAKE_ACCOUNT\"),\n",
    "    \"user\": os.getenv(\"SNOWFLAKE_USER\"),\n",
    "    \"password\": os.getenv(\"SNOWFLAKE_PASSWORD\"),\n",
    "    \"role\": os.getenv(\"SNOWFLAKE_ROLE\", \"ACCOUNTADMIN\"),\n",
    "    \"warehouse\": os.getenv(\"SNOWFLAKE_WAREHOUSE\", \"TEST_WAREHOUSE\"),\n",
    "    \"database\": os.getenv(\"SNOWFLAKE_DATABASE\", \"TEST_DATABASE\"),\n",
    "    \"schema\": os.getenv(\"SNOWFLAKE_SCHEMA\", \"TEST_SCHEMA\"),\n",
    "}"
   ],
   "outputs": [],
   "execution_count": 2
  },
  {
   "metadata": {},
   "cell_type": "markdown",
   "source": "### Connect using the Snowflake Connector for Python",
   "id": "1554140e83759d90"
  },
  {
   "metadata": {
    "ExecuteTime": {
     "end_time": "2025-10-12T16:06:30.849725Z",
     "start_time": "2025-10-12T16:06:21.020101Z"
    }
   },
   "cell_type": "code",
   "source": [
    "import snowflake.connector as sf\n",
    "\n",
    "con = sf.connect(**CONNECTION_PARAMETERS)\n",
    "cur = con.cursor()\n",
    "cur.execute(\"SELECT CURRENT_ROLE(), CURRENT_WAREHOUSE(), CURRENT_DATABASE(), CURRENT_SCHEMA()\")\n",
    "print(cur.fetchone())"
   ],
   "id": "467fb29c001d807",
   "outputs": [
    {
     "name": "stdout",
     "output_type": "stream",
     "text": [
      "('DEV_ROLE', 'TEST_WAREHOUSE', 'TEST_DATABASE', 'TEST_SCHEMA')\n"
     ]
    }
   ],
   "execution_count": 3
  },
  {
   "metadata": {},
   "cell_type": "markdown",
   "source": "### Connect using Snowpark for Python",
   "id": "ec3c526e4e3cbbd6"
  },
  {
   "metadata": {
    "ExecuteTime": {
     "end_time": "2025-10-12T16:06:38.374150Z",
     "start_time": "2025-10-12T16:06:34.158634Z"
    }
   },
   "cell_type": "code",
   "source": [
    "from snowflake.snowpark import Session\n",
    "\n",
    "session = Session.builder.configs(CONNECTION_PARAMETERS).create()\n",
    "session.sql(\"SELECT CURRENT_ROLE(), CURRENT_WAREHOUSE(), CURRENT_DATABASE(), CURRENT_SCHEMA()\").show()"
   ],
   "id": "da7bc36044cbc7ed",
   "outputs": [
    {
     "name": "stdout",
     "output_type": "stream",
     "text": [
      "----------------------------------------------------------------------------------------\n",
      "|\"CURRENT_ROLE()\"  |\"CURRENT_WAREHOUSE()\"  |\"CURRENT_DATABASE()\"  |\"CURRENT_SCHEMA()\"  |\n",
      "----------------------------------------------------------------------------------------\n",
      "|DEV_ROLE          |TEST_WAREHOUSE         |TEST_DATABASE         |TEST_SCHEMA         |\n",
      "----------------------------------------------------------------------------------------\n",
      "\n"
     ]
    }
   ],
   "execution_count": 4
  },
  {
   "metadata": {},
   "cell_type": "markdown",
   "source": "We'll store the connection parameters in a variable for use in later notebooks.",
   "id": "f08d4f3f848db440"
  },
  {
   "metadata": {
    "ExecuteTime": {
     "end_time": "2025-10-12T16:07:27.501604Z",
     "start_time": "2025-10-12T16:07:27.483107Z"
    }
   },
   "cell_type": "code",
   "source": "%store CONNECTION_PARAMETERS",
   "id": "6407573ecaa351b4",
   "outputs": [
    {
     "name": "stdout",
     "output_type": "stream",
     "text": [
      "Stored 'CONNECTION_PARAMETERS' (dict)\n"
     ]
    }
   ],
   "execution_count": 7
  }
 ],
 "metadata": {
  "kernelspec": {
   "display_name": "Python 3",
   "language": "python",
   "name": "python3"
  },
  "language_info": {
   "codemirror_mode": {
    "name": "ipython",
    "version": 2
   },
   "file_extension": ".py",
   "mimetype": "text/x-python",
   "name": "python",
   "nbconvert_exporter": "python",
   "pygments_lexer": "ipython2",
   "version": "2.7.6"
  }
 },
 "nbformat": 4,
 "nbformat_minor": 5
}
