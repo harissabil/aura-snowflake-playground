{
 "cells": [
  {
   "cell_type": "code",
   "id": "initial_id",
   "metadata": {
    "collapsed": true,
    "ExecuteTime": {
     "end_time": "2025-10-12T16:52:52.391063Z",
     "start_time": "2025-10-12T16:52:26.480553Z"
    }
   },
   "source": [
    "import sys\n",
    "\n",
    "sys.path.append('..')\n",
    "\n",
    "from src.config import SnowflakeConfig, validate_config\n",
    "from src.utils.snowflake_helper import SnowflakeHelper\n",
    "from snowflake.cortex import Complete\n",
    "import json\n",
    "from datetime import datetime\n",
    "\n",
    "# Validate and connect\n",
    "validate_config()\n",
    "config = SnowflakeConfig()\n",
    "sf_helper = SnowflakeHelper(config.get_connection_params())\n",
    "session = sf_helper.connect()\n",
    "\n",
    "print(\"✓ Staff Admin Agent initialized\")"
   ],
   "outputs": [
    {
     "name": "stdout",
     "output_type": "stream",
     "text": [
      "✓ Configuration validated successfully\n",
      "✓ Connected to Snowflake as harismad\n",
      "  Role: \"DEV_ROLE\"\n",
      "  Warehouse: \"TEST_WAREHOUSE\"\n",
      "  Database: \"TEST_DATABASE\"\n",
      "  Schema: \"TEST_SCHEMA\"\n",
      "✓ Staff Admin Agent initialized\n"
     ]
    }
   ],
   "execution_count": 1
  },
  {
   "metadata": {},
   "cell_type": "markdown",
   "source": "### Define Agent Tools (Functions)",
   "id": "834989922135ca22"
  },
  {
   "metadata": {
    "ExecuteTime": {
     "end_time": "2025-10-12T16:53:59.656919Z",
     "start_time": "2025-10-12T16:53:59.601810Z"
    }
   },
   "cell_type": "code",
   "source": [
    "class StaffAdminTools:\n",
    "    \"\"\"Custom tools for Staff Admin Agent\"\"\"\n",
    "\n",
    "    def __init__(self, sf_helper):\n",
    "        self.sf_helper = sf_helper\n",
    "\n",
    "    def search_sop(self, keyword: str = None, category: str = None) -> dict:\n",
    "        \"\"\"Search hospital SOPs by keyword or category\"\"\"\n",
    "        conditions = []\n",
    "\n",
    "        if keyword:\n",
    "            conditions.append(f\"(SOP_TITLE ILIKE '%{keyword}%' OR SOP_CONTENT ILIKE '%{keyword}%')\")\n",
    "        if category:\n",
    "            conditions.append(f\"SOP_CATEGORY = '{category}'\")\n",
    "\n",
    "        where_clause = \" AND \".join(conditions) if conditions else \"1=1\"\n",
    "\n",
    "        query = f\"\"\"\n",
    "        SELECT\n",
    "            SOP_ID,\n",
    "            SOP_CATEGORY,\n",
    "            SOP_TITLE,\n",
    "            SOP_CONTENT,\n",
    "            DEPARTMENT,\n",
    "            LAST_UPDATED,\n",
    "            VERSION\n",
    "        FROM hospital_sop\n",
    "        WHERE {where_clause}\n",
    "        ORDER BY LAST_UPDATED DESC\n",
    "        LIMIT 5\n",
    "        \"\"\"\n",
    "\n",
    "        result = self.sf_helper.execute_query(query)\n",
    "        return {\n",
    "            \"success\": True,\n",
    "            \"count\": len(result),\n",
    "            \"sops\": result.to_dict('records')\n",
    "        }\n",
    "\n",
    "    def get_doctor_schedule(self, day: str = None, specialization: str = None,\n",
    "                            doctor_name: str = None) -> dict:\n",
    "        \"\"\"Get doctor schedules with filters\"\"\"\n",
    "        conditions = [\"STATUS = 'AVAILABLE'\"]\n",
    "\n",
    "        if day:\n",
    "            conditions.append(f\"DAY_OF_WEEK = '{day}'\")\n",
    "        if specialization:\n",
    "            conditions.append(f\"SPECIALIZATION ILIKE '%{specialization}%'\")\n",
    "        if doctor_name:\n",
    "            conditions.append(f\"DOCTOR_NAME ILIKE '%{doctor_name}%'\")\n",
    "\n",
    "        where_clause = \" AND \".join(conditions)\n",
    "\n",
    "        query = f\"\"\"\n",
    "        SELECT\n",
    "            SCHEDULE_ID,\n",
    "            DOCTOR_NAME,\n",
    "            SPECIALIZATION,\n",
    "            DAY_OF_WEEK,\n",
    "            START_TIME,\n",
    "            END_TIME,\n",
    "            ROOM_NUMBER,\n",
    "            MAX_PATIENTS,\n",
    "            BOOKED_PATIENTS,\n",
    "            (MAX_PATIENTS - BOOKED_PATIENTS) as AVAILABLE_SLOTS\n",
    "        FROM doctor_schedule\n",
    "        WHERE {where_clause}\n",
    "        ORDER BY DAY_OF_WEEK, START_TIME\n",
    "        LIMIT 10\n",
    "        \"\"\"\n",
    "\n",
    "        result = self.sf_helper.execute_query(query)\n",
    "        return {\n",
    "            \"success\": True,\n",
    "            \"count\": len(result),\n",
    "            \"schedules\": result.to_dict('records')\n",
    "        }\n",
    "\n",
    "    def check_facility_availability(self, facility_type: str = None,\n",
    "                                    location: str = None) -> dict:\n",
    "        \"\"\"Check facility availability\"\"\"\n",
    "        conditions = [\"STATUS = 'OPERATIONAL'\"]\n",
    "\n",
    "        if facility_type:\n",
    "            conditions.append(f\"FACILITY_TYPE ILIKE '%{facility_type}%'\")\n",
    "        if location:\n",
    "            conditions.append(f\"LOCATION ILIKE '%{location}%'\")\n",
    "\n",
    "        where_clause = \" AND \".join(conditions)\n",
    "\n",
    "        query = f\"\"\"\n",
    "        SELECT\n",
    "            FACILITY_ID,\n",
    "            FACILITY_NAME,\n",
    "            FACILITY_TYPE,\n",
    "            LOCATION,\n",
    "            CAPACITY,\n",
    "            CURRENT_USAGE,\n",
    "            (CAPACITY - CURRENT_USAGE) as AVAILABLE_CAPACITY,\n",
    "            OPERATING_HOURS,\n",
    "            CONTACT_INFO,\n",
    "            STATUS\n",
    "        FROM hospital_facilities\n",
    "        WHERE {where_clause}\n",
    "        ORDER BY AVAILABLE_CAPACITY DESC\n",
    "        LIMIT 10\n",
    "        \"\"\"\n",
    "\n",
    "        result = self.sf_helper.execute_query(query)\n",
    "        return {\n",
    "            \"success\": True,\n",
    "            \"count\": len(result),\n",
    "            \"facilities\": result.to_dict('records')\n",
    "        }\n",
    "\n",
    "    def get_department_summary(self) -> dict:\n",
    "        \"\"\"Get summary of hospital departments and their resources\"\"\"\n",
    "        query = \"\"\"\n",
    "                SELECT DEPARTMENT,\n",
    "                       COUNT(*)          as SOP_COUNT,\n",
    "                       MAX(LAST_UPDATED) as LATEST_UPDATE\n",
    "                FROM hospital_sop\n",
    "                GROUP BY DEPARTMENT\n",
    "                ORDER BY SOP_COUNT DESC \\\n",
    "                \"\"\"\n",
    "\n",
    "        result = self.sf_helper.execute_query(query)\n",
    "        return {\n",
    "            \"success\": True,\n",
    "            \"departments\": result.to_dict('records')\n",
    "        }\n",
    "\n",
    "\n",
    "# Initialize tools\n",
    "tools = StaffAdminTools(sf_helper)\n",
    "print(\"✓ Staff Admin Tools initialized\")"
   ],
   "id": "32cb181f318f19ca",
   "outputs": [
    {
     "name": "stdout",
     "output_type": "stream",
     "text": [
      "✓ Staff Admin Tools initialized\n"
     ]
    }
   ],
   "execution_count": 2
  },
  {
   "metadata": {},
   "cell_type": "markdown",
   "source": "### Test Individual Tools",
   "id": "7aad50abf40d8d9b"
  },
  {
   "metadata": {
    "ExecuteTime": {
     "end_time": "2025-10-12T16:54:56.719980Z",
     "start_time": "2025-10-12T16:54:52.744836Z"
    }
   },
   "cell_type": "code",
   "source": [
    "# Test 1: Search SOP\n",
    "print(\"=== Test 1: Search Patient Care SOPs ===\")\n",
    "sop_result = tools.search_sop(category=\"Patient Care\")\n",
    "print(f\"Found {sop_result['count']} SOPs\")\n",
    "if sop_result['sops']:\n",
    "    print(f\"Example: {sop_result['sops'][0]['SOP_TITLE']}\")\n",
    "\n",
    "# Test 2: Get Doctor Schedule\n",
    "print(\"\\n=== Test 2: Get Monday Doctor Schedules ===\")\n",
    "schedule_result = tools.get_doctor_schedule(day=\"Monday\")\n",
    "print(f\"Found {schedule_result['count']} schedules\")\n",
    "if schedule_result['schedules']:\n",
    "    print(\n",
    "        f\"Example: Dr. {schedule_result['schedules'][0]['DOCTOR_NAME']} - {schedule_result['schedules'][0]['SPECIALIZATION']}\")\n",
    "\n",
    "# Test 3: Check Facility\n",
    "print(\"\\n=== Test 3: Check Operating Room Availability ===\")\n",
    "facility_result = tools.check_facility_availability(facility_type=\"Operating Room\")\n",
    "print(f\"Found {facility_result['count']} facilities\")\n",
    "if facility_result['facilities']:\n",
    "    print(\n",
    "        f\"Example: {facility_result['facilities'][0]['FACILITY_NAME']} - {facility_result['facilities'][0]['AVAILABLE_CAPACITY']} slots available\")\n"
   ],
   "id": "eceea795cc2efe3c",
   "outputs": [
    {
     "name": "stdout",
     "output_type": "stream",
     "text": [
      "=== Test 1: Search Patient Care SOPs ===\n",
      "Found 5 SOPs\n",
      "Example: Patient Discharge Process\n",
      "\n",
      "=== Test 2: Get Monday Doctor Schedules ===\n",
      "Found 2 schedules\n",
      "Example: Dr. Dr. Fitri Pratama - Pediatrician\n",
      "\n",
      "=== Test 3: Check Operating Room Availability ===\n",
      "Found 2 facilities\n",
      "Example: Operating Room 1 - 1 slots available\n"
     ]
    }
   ],
   "execution_count": 3
  },
  {
   "metadata": {},
   "cell_type": "markdown",
   "source": "### Build Agent Prompt System",
   "id": "7df2835cec7ada5f"
  },
  {
   "metadata": {
    "ExecuteTime": {
     "end_time": "2025-10-12T16:56:23.387545Z",
     "start_time": "2025-10-12T16:56:23.369548Z"
    }
   },
   "cell_type": "code",
   "source": [
    "def build_agent_prompt(user_query: str, tool_results: dict = None) -> str:\n",
    "    \"\"\"Build prompt for the Staff Admin Agent\"\"\"\n",
    "\n",
    "    system_context = \"\"\"You are AURA Staff Admin Assistant, an AI agent helping hospital administrative staff.\n",
    "\n",
    "    Your capabilities:\n",
    "    1. Search and explain hospital Standard Operating Procedures (SOPs)\n",
    "    2. Check doctor schedules and availability\n",
    "    3. Verify facility availability and resources\n",
    "    4. Provide administrative guidance\n",
    "\n",
    "    Guidelines:\n",
    "    - Be professional and concise\n",
    "    - Always cite specific SOP IDs, doctor names, or facility IDs when providing information\n",
    "    - If you don't have information, admit it and suggest alternatives\n",
    "    - Format responses clearly with bullet points when listing multiple items\n",
    "    - Include relevant details like room numbers, timings, and contact information\n",
    "\n",
    "    Context: You have access to hospital database with SOPs, doctor schedules, and facility information.\n",
    "    Current date: {current_date}\n",
    "\"\"\".format(current_date=datetime.now().strftime(\"%A, %B %d, %Y\"))\n",
    "\n",
    "    if tool_results:\n",
    "        context_data = \"\\n\\nAvailable Data:\\n\"\n",
    "        for key, value in tool_results.items():\n",
    "            context_data += f\"\\n{key}:\\n{json.dumps(value, indent=2, default=str)}\\n\"\n",
    "    else:\n",
    "        context_data = \"\"\n",
    "\n",
    "    full_prompt = f\"\"\"{system_context}{context_data}\n",
    "\n",
    "User Query: {user_query}\n",
    "\n",
    "Response:\"\"\"\n",
    "\n",
    "    return full_prompt"
   ],
   "id": "7a1271c26849614c",
   "outputs": [],
   "execution_count": 4
  },
  {
   "metadata": {},
   "cell_type": "markdown",
   "source": "### Simple Agent Implementation (Without Tool Calling)",
   "id": "2318fa90a08e9b96"
  },
  {
   "metadata": {
    "ExecuteTime": {
     "end_time": "2025-10-12T16:57:05.516185Z",
     "start_time": "2025-10-12T16:57:05.479837Z"
    }
   },
   "cell_type": "code",
   "source": [
    "def simple_agent_response(user_query: str, use_tools: bool = True) -> str:\n",
    "    \"\"\"\n",
    "    Simple agent that uses tools based on keyword detection\n",
    "    \"\"\"\n",
    "    query_lower = user_query.lower()\n",
    "    tool_results = {}\n",
    "\n",
    "    if use_tools:\n",
    "        # Detect intent and call appropriate tools\n",
    "        if any(word in query_lower for word in ['sop', 'procedure', 'protocol', 'guideline']):\n",
    "            # Extract category if mentioned\n",
    "            categories = ['patient care', 'emergency', 'administrative', 'safety', 'quality']\n",
    "            detected_category = next((cat for cat in categories if cat in query_lower), None)\n",
    "\n",
    "            if detected_category:\n",
    "                tool_results['sop_search'] = tools.search_sop(category=detected_category.title())\n",
    "            else:\n",
    "                # Search by keyword\n",
    "                keywords = ['admission', 'discharge', 'appointment', 'emergency', 'medication']\n",
    "                detected_keyword = next((kw for kw in keywords if kw in query_lower), None)\n",
    "                if detected_keyword:\n",
    "                    tool_results['sop_search'] = tools.search_sop(keyword=detected_keyword)\n",
    "\n",
    "        if any(word in query_lower for word in ['doctor', 'schedule', 'appointment', 'available']):\n",
    "            # Extract day if mentioned\n",
    "            days = ['monday', 'tuesday', 'wednesday', 'thursday', 'friday', 'saturday', 'sunday']\n",
    "            detected_day = next((day for day in days if day in query_lower), None)\n",
    "\n",
    "            # Extract specialization if mentioned\n",
    "            specializations = ['cardiologist', 'pediatrician', 'orthopedist', 'dermatologist',\n",
    "                               'neurologist', 'gynecologist', 'psychiatrist']\n",
    "            detected_spec = next((spec for spec in specializations if spec in query_lower), None)\n",
    "\n",
    "            if detected_day or detected_spec:\n",
    "                tool_results['doctor_schedule'] = tools.get_doctor_schedule(\n",
    "                    day=detected_day.title() if detected_day else None,\n",
    "                    specialization=detected_spec.title() if detected_spec else None\n",
    "                )\n",
    "\n",
    "        if any(word in query_lower for word in ['facility', 'room', 'equipment', 'operating room', 'icu']):\n",
    "            # Extract facility type\n",
    "            facility_types = ['operating room', 'icu', 'emergency room', 'x-ray', 'mri', 'ct scanner', 'laboratory']\n",
    "            detected_facility = next((ft for ft in facility_types if ft in query_lower), None)\n",
    "\n",
    "            if detected_facility:\n",
    "                tool_results['facility_availability'] = tools.check_facility_availability(\n",
    "                    facility_type=detected_facility.title()\n",
    "                )\n",
    "\n",
    "    # Build prompt with tool results\n",
    "    prompt = build_agent_prompt(user_query, tool_results if tool_results else None)\n",
    "\n",
    "    # Get response from Cortex\n",
    "    response = Complete(\n",
    "        config.get_cortex_model(),\n",
    "        prompt,\n",
    "        session=session\n",
    "    )\n",
    "\n",
    "    return response"
   ],
   "id": "46c32b2328afc96d",
   "outputs": [],
   "execution_count": 5
  },
  {
   "metadata": {},
   "cell_type": "markdown",
   "source": "### Test Agent with Various Queries",
   "id": "dc8fac4578fc5359"
  },
  {
   "metadata": {
    "ExecuteTime": {
     "end_time": "2025-10-12T16:58:39.030624Z",
     "start_time": "2025-10-12T16:58:11.120462Z"
    }
   },
   "cell_type": "code",
   "source": [
    "test_queries = [\n",
    "    \"What is the SOP for patient admission?\",\n",
    "    \"Show me doctor schedules for Monday\",\n",
    "    \"Is there any cardiologist available this week?\",\n",
    "    \"Check the availability of operating rooms\",\n",
    "    \"What are the emergency procedures in case of fire?\",\n",
    "    \"How do I schedule a patient appointment?\"\n",
    "]\n",
    "\n",
    "print(\"=== Testing Staff Admin Agent ===\\n\")\n",
    "\n",
    "for i, query in enumerate(test_queries, 1):\n",
    "    print(f\"\\n{'='*60}\")\n",
    "    print(f\"Query {i}: {query}\")\n",
    "    print(f\"{'='*60}\")\n",
    "\n",
    "    response = simple_agent_response(query)\n",
    "    print(f\"\\nAgent Response:\\n{response}\")\n",
    "    print(f\"\\n{'='*60}\\n\")"
   ],
   "id": "51686f34a49fb18a",
   "outputs": [
    {
     "name": "stdout",
     "output_type": "stream",
     "text": [
      "=== Testing Staff Admin Agent ===\n",
      "\n",
      "\n",
      "============================================================\n",
      "Query 1: What is the SOP for patient admission?\n",
      "============================================================\n"
     ]
    },
    {
     "name": "stderr",
     "output_type": "stream",
     "text": [
      "C:\\Users\\Lenovo\\AppData\\Local\\Temp\\ipykernel_6020\\306109159.py:54: DeprecationWarning: Complete() is deprecated and will be removed in a future release. Use complete() instead\n",
      "  response = Complete(\n"
     ]
    },
    {
     "name": "stdout",
     "output_type": "stream",
     "text": [
      "\n",
      "Agent Response:\n",
      " Based on the information available in our database, the Patient Admission Procedure SOP (SOP-0005) outlines the following steps:\n",
      "\n",
      "1. Assess the situation\n",
      "2. Follow department guidelines\n",
      "3. Document all actions taken\n",
      "4. Report to supervisor if necessary\n",
      "\n",
      "For more detailed information, please refer to the SOP document or contact the ICU department directly.\n",
      "\n",
      "============================================================\n",
      "\n",
      "\n",
      "============================================================\n",
      "Query 2: Show me doctor schedules for Monday\n",
      "============================================================\n"
     ]
    },
    {
     "name": "stderr",
     "output_type": "stream",
     "text": [
      "C:\\Users\\Lenovo\\AppData\\Local\\Temp\\ipykernel_6020\\306109159.py:54: DeprecationWarning: Complete() is deprecated and will be removed in a future release. Use complete() instead\n",
      "  response = Complete(\n"
     ]
    },
    {
     "name": "stdout",
     "output_type": "stream",
     "text": [
      "\n",
      "Agent Response:\n",
      " Based on the hospital database, here are the doctor schedules for Monday, October 13, 2025:\n",
      "\n",
      "- Dr. Fitri Pratama (Pediatrician):\n",
      "  * Room Number: 508\n",
      "  * Start Time: 08:00:00\n",
      "  * End Time: 12:00:00\n",
      "  * Max Patients: 15\n",
      "  * Booked Patients: 15\n",
      "  * Available Slots: 0\n",
      "\n",
      "- Dr. Ahmad Pratama (ENT Specialist):\n",
      "  * Room Number: 304\n",
      "  * Start Time: 09:00:00\n",
      "  * End Time: 13:00:00\n",
      "  * Max Patients: 15\n",
      "  * Booked Patients: 6\n",
      "  * Available Slots: 9\n",
      "\n",
      "Please note that Dr. Fitri Pratama's schedule is fully booked, and Dr. Ahmad Pratama has available slots for 9 patients. If you need further assistance or information, please let me know.\n",
      "\n",
      "============================================================\n",
      "\n",
      "\n",
      "============================================================\n",
      "Query 3: Is there any cardiologist available this week?\n",
      "============================================================\n"
     ]
    },
    {
     "name": "stderr",
     "output_type": "stream",
     "text": [
      "C:\\Users\\Lenovo\\AppData\\Local\\Temp\\ipykernel_6020\\306109159.py:54: DeprecationWarning: Complete() is deprecated and will be removed in a future release. Use complete() instead\n",
      "  response = Complete(\n"
     ]
    },
    {
     "name": "stdout",
     "output_type": "stream",
     "text": [
      "\n",
      "Agent Response:\n",
      " Based on the current data, I cannot directly check the doctor schedules as the provided doctor_schedule data is empty. I suggest checking with the Doctor's Scheduling department or the Hospital Information Desk for the most accurate and up-to-date information. You can contact them at extension 1234 or via email at scheduling@aura-hospital.com.\n",
      "\n",
      "Alternatively, you can refer to the following SOP for guidelines on checking doctor availability:\n",
      "\n",
      "SOP ID: AURA-ADM-003\n",
      "Title: Checking Doctor Availability\n",
      "Section: Procedure\n",
      "\n",
      "1. Contact the Doctor's Scheduling department or the Hospital Information Desk.\n",
      "2. Provide the name of the doctor and the desired date(s).\n",
      "3. They will provide you with the doctor's availability for the requested date(s).\n",
      "\n",
      "============================================================\n",
      "\n",
      "\n",
      "============================================================\n",
      "Query 4: Check the availability of operating rooms\n",
      "============================================================\n"
     ]
    },
    {
     "name": "stderr",
     "output_type": "stream",
     "text": [
      "C:\\Users\\Lenovo\\AppData\\Local\\Temp\\ipykernel_6020\\306109159.py:54: DeprecationWarning: Complete() is deprecated and will be removed in a future release. Use complete() instead\n",
      "  response = Complete(\n"
     ]
    },
    {
     "name": "stdout",
     "output_type": "stream",
     "text": [
      "\n",
      "Agent Response:\n",
      " Based on the current hospital facility availability data, here are the operating rooms and their statuses:\n",
      "\n",
      "- Operating Room 1 (FAC-0011): Available (Current usage: 0, Available capacity: 1)\n",
      "- Operating Room 2 (FAC-0019): Unavailable (Current usage: 10, Available capacity: -5)\n",
      "\n",
      "If you would like to schedule a procedure in Operating Room 1, please contact them at ext. 2765 during their operating hours from 08:00 to 17:00. For any emergencies or urgent cases, please contact the hospital switchboard to be directed to the appropriate department.\n",
      "\n",
      "============================================================\n",
      "\n",
      "\n",
      "============================================================\n",
      "Query 5: What are the emergency procedures in case of fire?\n",
      "============================================================\n"
     ]
    },
    {
     "name": "stderr",
     "output_type": "stream",
     "text": [
      "C:\\Users\\Lenovo\\AppData\\Local\\Temp\\ipykernel_6020\\306109159.py:54: DeprecationWarning: Complete() is deprecated and will be removed in a future release. Use complete() instead\n",
      "  response = Complete(\n"
     ]
    },
    {
     "name": "stdout",
     "output_type": "stream",
     "text": [
      "\n",
      "Agent Response:\n",
      " Based on Hospital SOP ID: HSOP-001, the following are the emergency procedures in case of a fire:\n",
      "\n",
      "- Activate the fire alarm system.\n",
      "- Evacuate the building using the nearest exit. Do not use elevators.\n",
      "- Assemble at the designated assembly point outside the building.\n",
      "- Call the hospital security or emergency services at extension 1234 for further assistance.\n",
      "- Do not attempt to fight the fire yourself unless you are trained to do so.\n",
      "\n",
      "Please ensure all staff and patients are aware of these procedures and practice them regularly. If you require more detailed information, please refer to the SOP document or contact the Safety and Security department.\n",
      "\n",
      "============================================================\n",
      "\n",
      "\n",
      "============================================================\n",
      "Query 6: How do I schedule a patient appointment?\n",
      "============================================================\n",
      "\n",
      "Agent Response:\n",
      " To schedule a patient appointment, kindly follow these steps:\n",
      "\n",
      "1. Identify the specific Specialist: Determine which specialist your patient requires an appointment with. You can check doctor schedules and availability by using the following command: \"Can you check the availability of Doctor [Doctor's Name] on [Date]?\"\n",
      "\n",
      "2. Verify SOP for Appointment Scheduling: Familiarize yourself with the hospital's SOP for scheduling appointments. SOP ID: AURA-SOP-001. This SOP outlines the process for scheduling appointments, including required information and documentation.\n",
      "\n",
      "3. Check Facility Availability: Ensure the requested appointment type and facility are available. You can verify facility availability and resources by using the following command: \"Is Room [Room Number] available on [Date] for [Appointment Type]?\"\n",
      "\n",
      "4. Schedule the Appointment: Once you have all the necessary information, you can schedule the appointment. Record the appointment details, including appointment type, date, time, and room number.\n",
      "\n",
      "5. Confirm Appointment: Contact the patient to confirm the appointment details and provide them with any necessary instructions or forms to complete before their visit.\n",
      "\n",
      "If you need further assistance or have any questions, please don't hesitate to ask.\n",
      "\n",
      "============================================================\n",
      "\n"
     ]
    }
   ],
   "execution_count": 6
  },
  {
   "metadata": {},
   "cell_type": "markdown",
   "source": "### Interactive Agent Loop",
   "id": "a05aa6bddda02ebf"
  },
  {
   "metadata": {
    "ExecuteTime": {
     "end_time": "2025-10-12T17:03:58.926818Z",
     "start_time": "2025-10-12T17:03:43.683160Z"
    }
   },
   "cell_type": "code",
   "source": [
    "def interactive_agent():\n",
    "    \"\"\"Interactive chat loop with the agent\"\"\"\n",
    "    print(\"=== AURA Staff Admin Agent - Interactive Mode ===\")\n",
    "    print(\"Type 'exit' or 'quit' to end the conversation\")\n",
    "    print(\"Type 'help' to see available commands\\n\")\n",
    "\n",
    "    conversation_history = []\n",
    "\n",
    "    while True:\n",
    "        user_input = input(\"\\nYou: \").strip()\n",
    "\n",
    "        if not user_input:\n",
    "            continue\n",
    "\n",
    "        if user_input.lower() in ['exit', 'quit']:\n",
    "            print(\"Goodbye! Have a great day!\")\n",
    "            break\n",
    "\n",
    "        if user_input.lower() == 'help':\n",
    "            print(\"\"\"\n",
    "Available query types:\n",
    "- SOP queries: \"What is the SOP for [topic]?\"\n",
    "- Schedule queries: \"Show doctor schedule for [day/specialization]\"\n",
    "- Facility queries: \"Check [facility type] availability\"\n",
    "- General admin questions\n",
    "\n",
    "Examples:\n",
    "- \"What is the patient admission procedure?\"\n",
    "- \"Are there any cardiologists available on Monday?\"\n",
    "- \"Show me emergency SOPs\"\n",
    "- \"Check ICU bed availability\"\n",
    "            \"\"\")\n",
    "            continue\n",
    "\n",
    "        # Get agent response\n",
    "        print(\"\\nAgent: \", end=\"\", flush=True)\n",
    "        response = simple_agent_response(user_input)\n",
    "        print(response)\n",
    "\n",
    "        # Store in history\n",
    "        conversation_history.append({\n",
    "            \"timestamp\": datetime.now(),\n",
    "            \"user\": user_input,\n",
    "            \"agent\": response\n",
    "        })\n",
    "\n",
    "# Uncomment to run interactive mode\n",
    "interactive_agent()"
   ],
   "id": "43c0f0554fea0920",
   "outputs": [
    {
     "name": "stdout",
     "output_type": "stream",
     "text": [
      "=== AURA Staff Admin Agent - Interactive Mode ===\n",
      "Type 'exit' or 'quit' to end the conversation\n",
      "Type 'help' to see available commands\n",
      "\n",
      "\n",
      "Agent: "
     ]
    },
    {
     "name": "stderr",
     "output_type": "stream",
     "text": [
      "C:\\Users\\Lenovo\\AppData\\Local\\Temp\\ipykernel_6020\\306109159.py:54: DeprecationWarning: Complete() is deprecated and will be removed in a future release. Use complete() instead\n",
      "  response = Complete(\n"
     ]
    },
    {
     "name": "stdout",
     "output_type": "stream",
     "text": [
      " I am AURA Staff Admin Assistant, an AI agent designed to help hospital administrative staff with searching and explaining hospital Standard Operating Procedures (SOPs), checking doctor schedules and availability, verifying facility availability and resources, and providing administrative guidance. (SOP ID: AURA-SOP-001)\n",
      "Goodbye! Have a great day!\n"
     ]
    }
   ],
   "execution_count": 9
  }
 ],
 "metadata": {
  "kernelspec": {
   "display_name": "Python 3",
   "language": "python",
   "name": "python3"
  },
  "language_info": {
   "codemirror_mode": {
    "name": "ipython",
    "version": 2
   },
   "file_extension": ".py",
   "mimetype": "text/x-python",
   "name": "python",
   "nbconvert_exporter": "python",
   "pygments_lexer": "ipython2",
   "version": "2.7.6"
  }
 },
 "nbformat": 4,
 "nbformat_minor": 5
}
